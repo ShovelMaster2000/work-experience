{
  "cells": [
    {
      "cell_type": "code",
      "execution_count": null,
      "metadata": {
        "id": "RIrxweLYiiYi"
      },
      "outputs": [],
      "source": [
        "import sqlite3\n",
        "import pandas as pd"
      ]
    },
    {
      "cell_type": "code",
      "execution_count": null,
      "metadata": {
        "id": "V1BCgf4viiYl"
      },
      "outputs": [],
      "source": [
        "con = sqlite3.connect(\":memory:\")\n",
        "cur = con.cursor()"
      ]
    },
    {
      "cell_type": "markdown",
      "metadata": {
        "id": "SuBAtf8FiiYp"
      },
      "source": [
        "https://www.cs.toronto.edu/~delve/data/boston/bostonDetail.html"
      ]
    },
    {
      "cell_type": "code",
      "execution_count": null,
      "metadata": {
        "id": "E3j3qZUUiiYr"
      },
      "outputs": [],
      "source": [
        "link = 'https://raw.githubusercontent.com/eric-bunch/boston_housing/master/boston.csv'"
      ]
    },
    {
      "cell_type": "code",
      "execution_count": null,
      "metadata": {
        "id": "KDDoDgyviiYs"
      },
      "outputs": [],
      "source": [
        "data = pd.read_csv(link)\n",
        "data.rename(columns = {'MDEV':'MEDV'}, inplace=True)"
      ]
    },
    {
      "cell_type": "code",
      "execution_count": null,
      "metadata": {
        "id": "q9tPP5saiiYt"
      },
      "outputs": [],
      "source": [
        "data.to_sql(\"boston\", con, index=False, if_exists=\"replace\")"
      ]
    },
    {
      "cell_type": "code",
      "execution_count": null,
      "metadata": {
        "scrolled": true,
        "id": "VhGwW7PkiiYu",
        "outputId": "c579ea29-3097-4cd9-caf8-c55abf824a1b"
      },
      "outputs": [
        {
          "data": {
            "text/html": [
              "<div>\n",
              "<style scoped>\n",
              "    .dataframe tbody tr th:only-of-type {\n",
              "        vertical-align: middle;\n",
              "    }\n",
              "\n",
              "    .dataframe tbody tr th {\n",
              "        vertical-align: top;\n",
              "    }\n",
              "\n",
              "    .dataframe thead th {\n",
              "        text-align: right;\n",
              "    }\n",
              "</style>\n",
              "<table border=\"1\" class=\"dataframe\">\n",
              "  <thead>\n",
              "    <tr style=\"text-align: right;\">\n",
              "      <th></th>\n",
              "      <th>CRIM</th>\n",
              "      <th>ZN</th>\n",
              "      <th>INDUS</th>\n",
              "      <th>CHAS</th>\n",
              "      <th>NOX</th>\n",
              "      <th>RM</th>\n",
              "      <th>AGE</th>\n",
              "      <th>DIS</th>\n",
              "      <th>RAD</th>\n",
              "      <th>TAX</th>\n",
              "      <th>PTRATIO</th>\n",
              "      <th>B</th>\n",
              "      <th>LSTAT</th>\n",
              "      <th>MEDV</th>\n",
              "    </tr>\n",
              "  </thead>\n",
              "  <tbody>\n",
              "    <tr>\n",
              "      <th>0</th>\n",
              "      <td>0.00632</td>\n",
              "      <td>18.0</td>\n",
              "      <td>2.31</td>\n",
              "      <td>0.0</td>\n",
              "      <td>0.538</td>\n",
              "      <td>6.575</td>\n",
              "      <td>65.2</td>\n",
              "      <td>4.0900</td>\n",
              "      <td>1.0</td>\n",
              "      <td>296.0</td>\n",
              "      <td>15.3</td>\n",
              "      <td>396.90</td>\n",
              "      <td>4.98</td>\n",
              "      <td>24.0</td>\n",
              "    </tr>\n",
              "    <tr>\n",
              "      <th>1</th>\n",
              "      <td>0.02731</td>\n",
              "      <td>0.0</td>\n",
              "      <td>7.07</td>\n",
              "      <td>0.0</td>\n",
              "      <td>0.469</td>\n",
              "      <td>6.421</td>\n",
              "      <td>78.9</td>\n",
              "      <td>4.9671</td>\n",
              "      <td>2.0</td>\n",
              "      <td>242.0</td>\n",
              "      <td>17.8</td>\n",
              "      <td>396.90</td>\n",
              "      <td>9.14</td>\n",
              "      <td>21.6</td>\n",
              "    </tr>\n",
              "    <tr>\n",
              "      <th>2</th>\n",
              "      <td>0.02729</td>\n",
              "      <td>0.0</td>\n",
              "      <td>7.07</td>\n",
              "      <td>0.0</td>\n",
              "      <td>0.469</td>\n",
              "      <td>7.185</td>\n",
              "      <td>61.1</td>\n",
              "      <td>4.9671</td>\n",
              "      <td>2.0</td>\n",
              "      <td>242.0</td>\n",
              "      <td>17.8</td>\n",
              "      <td>392.83</td>\n",
              "      <td>4.03</td>\n",
              "      <td>34.7</td>\n",
              "    </tr>\n",
              "    <tr>\n",
              "      <th>3</th>\n",
              "      <td>0.03237</td>\n",
              "      <td>0.0</td>\n",
              "      <td>2.18</td>\n",
              "      <td>0.0</td>\n",
              "      <td>0.458</td>\n",
              "      <td>6.998</td>\n",
              "      <td>45.8</td>\n",
              "      <td>6.0622</td>\n",
              "      <td>3.0</td>\n",
              "      <td>222.0</td>\n",
              "      <td>18.7</td>\n",
              "      <td>394.63</td>\n",
              "      <td>2.94</td>\n",
              "      <td>33.4</td>\n",
              "    </tr>\n",
              "    <tr>\n",
              "      <th>4</th>\n",
              "      <td>0.06905</td>\n",
              "      <td>0.0</td>\n",
              "      <td>2.18</td>\n",
              "      <td>0.0</td>\n",
              "      <td>0.458</td>\n",
              "      <td>7.147</td>\n",
              "      <td>54.2</td>\n",
              "      <td>6.0622</td>\n",
              "      <td>3.0</td>\n",
              "      <td>222.0</td>\n",
              "      <td>18.7</td>\n",
              "      <td>396.90</td>\n",
              "      <td>5.33</td>\n",
              "      <td>36.2</td>\n",
              "    </tr>\n",
              "  </tbody>\n",
              "</table>\n",
              "</div>"
            ],
            "text/plain": [
              "      CRIM    ZN  INDUS  CHAS    NOX     RM   AGE     DIS  RAD    TAX  \\\n",
              "0  0.00632  18.0   2.31   0.0  0.538  6.575  65.2  4.0900  1.0  296.0   \n",
              "1  0.02731   0.0   7.07   0.0  0.469  6.421  78.9  4.9671  2.0  242.0   \n",
              "2  0.02729   0.0   7.07   0.0  0.469  7.185  61.1  4.9671  2.0  242.0   \n",
              "3  0.03237   0.0   2.18   0.0  0.458  6.998  45.8  6.0622  3.0  222.0   \n",
              "4  0.06905   0.0   2.18   0.0  0.458  7.147  54.2  6.0622  3.0  222.0   \n",
              "\n",
              "   PTRATIO       B  LSTAT  MEDV  \n",
              "0     15.3  396.90   4.98  24.0  \n",
              "1     17.8  396.90   9.14  21.6  \n",
              "2     17.8  392.83   4.03  34.7  \n",
              "3     18.7  394.63   2.94  33.4  \n",
              "4     18.7  396.90   5.33  36.2  "
            ]
          },
          "execution_count": 6,
          "metadata": {},
          "output_type": "execute_result"
        }
      ],
      "source": [
        "pd.read_sql(\n",
        "    \"\"\"\n",
        "    SELECT * FROM boston\n",
        "    limit 5\n",
        "    \"\"\",\n",
        "    con,\n",
        ")"
      ]
    },
    {
      "cell_type": "code",
      "execution_count": null,
      "metadata": {
        "id": "STtk-gXbiiYu",
        "outputId": "c3fe2e8e-faa7-42a2-bae0-1a3192e84ce9"
      },
      "outputs": [
        {
          "data": {
            "text/plain": [
              "(506, 14)"
            ]
          },
          "execution_count": 7,
          "metadata": {},
          "output_type": "execute_result"
        }
      ],
      "source": [
        "data.shape"
      ]
    },
    {
      "cell_type": "markdown",
      "metadata": {
        "id": "61_-Ub1giiYv"
      },
      "source": [
        "# 1. Выведите количество пустых значений по колонкам CRIM, ZN, INDUS, CHAS, NOX (название колонки, кол-во пустых значений)"
      ]
    },
    {
      "cell_type": "code",
      "execution_count": null,
      "metadata": {
        "id": "VEviXnZwiiYw",
        "outputId": "af01bb4c-cbbf-486b-d9d4-f9389cadd4ee"
      },
      "outputs": [
        {
          "data": {
            "text/html": [
              "<div>\n",
              "<style scoped>\n",
              "    .dataframe tbody tr th:only-of-type {\n",
              "        vertical-align: middle;\n",
              "    }\n",
              "\n",
              "    .dataframe tbody tr th {\n",
              "        vertical-align: top;\n",
              "    }\n",
              "\n",
              "    .dataframe thead th {\n",
              "        text-align: right;\n",
              "    }\n",
              "</style>\n",
              "<table border=\"1\" class=\"dataframe\">\n",
              "  <thead>\n",
              "    <tr style=\"text-align: right;\">\n",
              "      <th></th>\n",
              "      <th>feature</th>\n",
              "      <th>empty_count</th>\n",
              "    </tr>\n",
              "  </thead>\n",
              "  <tbody>\n",
              "    <tr>\n",
              "      <th>0</th>\n",
              "      <td>CHAS</td>\n",
              "      <td>0</td>\n",
              "    </tr>\n",
              "    <tr>\n",
              "      <th>1</th>\n",
              "      <td>CRIM</td>\n",
              "      <td>0</td>\n",
              "    </tr>\n",
              "    <tr>\n",
              "      <th>2</th>\n",
              "      <td>INDUS</td>\n",
              "      <td>0</td>\n",
              "    </tr>\n",
              "    <tr>\n",
              "      <th>3</th>\n",
              "      <td>NOX</td>\n",
              "      <td>0</td>\n",
              "    </tr>\n",
              "    <tr>\n",
              "      <th>4</th>\n",
              "      <td>ZN</td>\n",
              "      <td>0</td>\n",
              "    </tr>\n",
              "  </tbody>\n",
              "</table>\n",
              "</div>"
            ],
            "text/plain": [
              "  feature  empty_count\n",
              "0    CHAS            0\n",
              "1    CRIM            0\n",
              "2   INDUS            0\n",
              "3     NOX            0\n",
              "4      ZN            0"
            ]
          },
          "execution_count": 8,
          "metadata": {},
          "output_type": "execute_result"
        }
      ],
      "source": [
        "pd.read_sql(\n",
        "    \"\"\"\n",
        "    SELECT 'CRIM' as 'feature', COUNT(CRIM) as 'empty_count' FROM boston\n",
        "    WHERE CRIM is Null\n",
        "    UNION\n",
        "    SELECT 'ZN', COUNT(ZN) FROM boston\n",
        "    WHERE ZN is Null\n",
        "    UNION\n",
        "    SELECT 'INDUS', COUNT(INDUS) FROM boston\n",
        "    WHERE INDUS is Null\n",
        "    UNION\n",
        "    SELECT 'CHAS', COUNT(CHAS) FROM boston\n",
        "    WHERE CHAS is Null\n",
        "    UNION\n",
        "    SELECT 'NOX', COUNT(NOX) FROM boston\n",
        "    WHERE NOX is Null\n",
        "    \"\"\",\n",
        "    con,\n",
        ")"
      ]
    },
    {
      "cell_type": "markdown",
      "metadata": {
        "id": "NIA8J87UiiYx"
      },
      "source": [
        "# 2. Выведите количество уникальных значений по колонокам CRIM, ZN, INDUS, CHAS, NOX (название колонки, кол-во уникальных значений)"
      ]
    },
    {
      "cell_type": "code",
      "execution_count": null,
      "metadata": {
        "id": "SB-XfOzsiiYx",
        "outputId": "6eb0083a-1a97-43fa-dee9-9fca41f5abe4"
      },
      "outputs": [
        {
          "data": {
            "text/html": [
              "<div>\n",
              "<style scoped>\n",
              "    .dataframe tbody tr th:only-of-type {\n",
              "        vertical-align: middle;\n",
              "    }\n",
              "\n",
              "    .dataframe tbody tr th {\n",
              "        vertical-align: top;\n",
              "    }\n",
              "\n",
              "    .dataframe thead th {\n",
              "        text-align: right;\n",
              "    }\n",
              "</style>\n",
              "<table border=\"1\" class=\"dataframe\">\n",
              "  <thead>\n",
              "    <tr style=\"text-align: right;\">\n",
              "      <th></th>\n",
              "      <th>feature</th>\n",
              "      <th>unique_count</th>\n",
              "    </tr>\n",
              "  </thead>\n",
              "  <tbody>\n",
              "    <tr>\n",
              "      <th>0</th>\n",
              "      <td>CHAS</td>\n",
              "      <td>2</td>\n",
              "    </tr>\n",
              "    <tr>\n",
              "      <th>1</th>\n",
              "      <td>CRIM</td>\n",
              "      <td>504</td>\n",
              "    </tr>\n",
              "    <tr>\n",
              "      <th>2</th>\n",
              "      <td>INDUS</td>\n",
              "      <td>76</td>\n",
              "    </tr>\n",
              "    <tr>\n",
              "      <th>3</th>\n",
              "      <td>NOX</td>\n",
              "      <td>81</td>\n",
              "    </tr>\n",
              "    <tr>\n",
              "      <th>4</th>\n",
              "      <td>ZN</td>\n",
              "      <td>26</td>\n",
              "    </tr>\n",
              "  </tbody>\n",
              "</table>\n",
              "</div>"
            ],
            "text/plain": [
              "  feature  unique_count\n",
              "0    CHAS             2\n",
              "1    CRIM           504\n",
              "2   INDUS            76\n",
              "3     NOX            81\n",
              "4      ZN            26"
            ]
          },
          "execution_count": 9,
          "metadata": {},
          "output_type": "execute_result"
        }
      ],
      "source": [
        "pd.read_sql(\n",
        "    \"\"\"\n",
        "    SELECT 'CRIM' as 'feature', COUNT(DISTINCT CRIM) as 'unique_count' FROM boston\n",
        "    UNION\n",
        "    SELECT 'ZN', COUNT(DISTINCT ZN) FROM boston\n",
        "    UNION\n",
        "    SELECT 'INDUS', COUNT(DISTINCT INDUS) FROM boston\n",
        "    UNION\n",
        "    SELECT 'CHAS', COUNT(DISTINCT CHAS) FROM boston\n",
        "    UNION\n",
        "    SELECT 'NOX', COUNT(DISTINCT NOX) FROM boston\n",
        "    \"\"\",\n",
        "    con,\n",
        ")"
      ]
    },
    {
      "cell_type": "markdown",
      "metadata": {
        "id": "UnXpDgqviiYy"
      },
      "source": [
        "# 3. Выведите колонки, у которых медиана равна минимальному значению (название колонки) выбирая из CRIM, ZN, INDUS, CHAS, NOX.\n",
        "Напишите какой вывод можно сделать по данным в этих колонках"
      ]
    },
    {
      "cell_type": "code",
      "execution_count": null,
      "metadata": {
        "id": "fuoMbHR0iiY0",
        "outputId": "d3b8ecd4-3034-44f2-da78-848ab78ccffe"
      },
      "outputs": [
        {
          "data": {
            "text/html": [
              "<div>\n",
              "<style scoped>\n",
              "    .dataframe tbody tr th:only-of-type {\n",
              "        vertical-align: middle;\n",
              "    }\n",
              "\n",
              "    .dataframe tbody tr th {\n",
              "        vertical-align: top;\n",
              "    }\n",
              "\n",
              "    .dataframe thead th {\n",
              "        text-align: right;\n",
              "    }\n",
              "</style>\n",
              "<table border=\"1\" class=\"dataframe\">\n",
              "  <thead>\n",
              "    <tr style=\"text-align: right;\">\n",
              "      <th></th>\n",
              "      <th>feature</th>\n",
              "      <th>median</th>\n",
              "      <th>min</th>\n",
              "    </tr>\n",
              "  </thead>\n",
              "  <tbody>\n",
              "    <tr>\n",
              "      <th>0</th>\n",
              "      <td>CHAS</td>\n",
              "      <td>0.0</td>\n",
              "      <td>0.0</td>\n",
              "    </tr>\n",
              "    <tr>\n",
              "      <th>1</th>\n",
              "      <td>ZN</td>\n",
              "      <td>0.0</td>\n",
              "      <td>0.0</td>\n",
              "    </tr>\n",
              "  </tbody>\n",
              "</table>\n",
              "</div>"
            ],
            "text/plain": [
              "  feature  median  min\n",
              "0    CHAS     0.0  0.0\n",
              "1      ZN     0.0  0.0"
            ]
          },
          "execution_count": 10,
          "metadata": {},
          "output_type": "execute_result"
        }
      ],
      "source": [
        "pd.read_sql(\n",
        "    \"\"\"\n",
        "    WITH new_table AS(\n",
        "    SELECT * FROM (\n",
        "        (SELECT 'CRIM' as 'feature', AVG(CRIM) as \"median\"\n",
        "        FROM (SELECT CRIM\n",
        "              FROM boston\n",
        "              ORDER BY CRIM\n",
        "              LIMIT 2\n",
        "              OFFSET (SELECT (COUNT(*) - 1) / 2\n",
        "                      FROM boston))),\n",
        "        (SELECT MIN(CRIM) as \"min\" FROM boston))\n",
        "    UNION\n",
        "    SELECT * FROM (\n",
        "        (SELECT 'ZN' as 'feature', AVG(ZN) as \"median\"\n",
        "        FROM (SELECT ZN\n",
        "              FROM boston\n",
        "              ORDER BY ZN\n",
        "              LIMIT 2\n",
        "              OFFSET (SELECT (COUNT(*) - 1) / 2\n",
        "                      FROM boston))),\n",
        "        (SELECT MIN(ZN) as \"min\" FROM boston))\n",
        "    UNION\n",
        "    SELECT * FROM (\n",
        "        (SELECT 'INDUS' as 'feature', AVG(INDUS) as \"median\"\n",
        "        FROM (SELECT INDUS\n",
        "              FROM boston\n",
        "              ORDER BY INDUS\n",
        "              LIMIT 2\n",
        "              OFFSET (SELECT (COUNT(*) - 1) / 2\n",
        "                      FROM boston))),\n",
        "        (SELECT MIN(INDUS) as \"min\" FROM boston))\n",
        "    UNION\n",
        "    SELECT * FROM (\n",
        "        (SELECT 'CHAS' as 'feature', AVG(CHAS) as \"median\"\n",
        "        FROM (SELECT CHAS\n",
        "              FROM boston\n",
        "              ORDER BY CHAS\n",
        "              LIMIT 2\n",
        "              OFFSET (SELECT (COUNT(*) - 1) / 2\n",
        "                      FROM boston))),\n",
        "        (SELECT MIN(CHAS) as \"min\" FROM boston))\n",
        "    UNION\n",
        "    SELECT * FROM (\n",
        "        (SELECT 'NOX' as 'feature', AVG(NOX) as \"median\"\n",
        "        FROM (SELECT NOX\n",
        "              FROM boston\n",
        "              ORDER BY NOX\n",
        "              LIMIT 2\n",
        "              OFFSET (SELECT (COUNT(*) - 1) / 2\n",
        "                      FROM boston))),\n",
        "        (SELECT MIN(NOX) as \"min\" FROM boston))\n",
        "    )\n",
        "    \n",
        "    SELECT * FROM new_table\n",
        "    WHERE median = min\n",
        "    \"\"\",\n",
        "    con,\n",
        ")\n",
        "    \n",
        "    "
      ]
    },
    {
      "cell_type": "markdown",
      "metadata": {
        "id": "Zxp8P4hgiiY2"
      },
      "source": [
        "Вывод: Большая часть значений в колонках CHAS и ZN имеют минимальное значение."
      ]
    },
    {
      "cell_type": "markdown",
      "metadata": {
        "id": "Pt7J-q6QiiY3"
      },
      "source": [
        "# 4. Выведите разницу между среднем количеством комнат(RM) в домах с самой дорогой стоимостью(MEDV) и 25 самыми дешевыми домами. \n",
        "Аналогично по 50, 100, 200, 300 самыми дешевыми домами. (кол-во домов(25,50,100,200,300), среднее кол-во комнат в них, среднее кол-во комнат в самых дорогих, разница).\n",
        "Напишите влияет ли кол-во комнат на стоимость и как сильно."
      ]
    },
    {
      "cell_type": "code",
      "execution_count": null,
      "metadata": {
        "id": "g0xXIUV0iiY4",
        "outputId": "a90a9c29-e275-4ef7-e8f1-bd764667f518"
      },
      "outputs": [
        {
          "data": {
            "text/html": [
              "<div>\n",
              "<style scoped>\n",
              "    .dataframe tbody tr th:only-of-type {\n",
              "        vertical-align: middle;\n",
              "    }\n",
              "\n",
              "    .dataframe tbody tr th {\n",
              "        vertical-align: top;\n",
              "    }\n",
              "\n",
              "    .dataframe thead th {\n",
              "        text-align: right;\n",
              "    }\n",
              "</style>\n",
              "<table border=\"1\" class=\"dataframe\">\n",
              "  <thead>\n",
              "    <tr style=\"text-align: right;\">\n",
              "      <th></th>\n",
              "      <th>build_counts</th>\n",
              "      <th>avg_chip</th>\n",
              "      <th>avg_exp</th>\n",
              "      <th>Diff</th>\n",
              "    </tr>\n",
              "  </thead>\n",
              "  <tbody>\n",
              "    <tr>\n",
              "      <th>0</th>\n",
              "      <td>25</td>\n",
              "      <td>5.747840</td>\n",
              "      <td>7.484</td>\n",
              "      <td>1.736160</td>\n",
              "    </tr>\n",
              "    <tr>\n",
              "      <th>1</th>\n",
              "      <td>50</td>\n",
              "      <td>5.753240</td>\n",
              "      <td>7.484</td>\n",
              "      <td>1.730760</td>\n",
              "    </tr>\n",
              "    <tr>\n",
              "      <th>2</th>\n",
              "      <td>100</td>\n",
              "      <td>5.887120</td>\n",
              "      <td>7.484</td>\n",
              "      <td>1.596880</td>\n",
              "    </tr>\n",
              "    <tr>\n",
              "      <th>3</th>\n",
              "      <td>200</td>\n",
              "      <td>5.911705</td>\n",
              "      <td>7.484</td>\n",
              "      <td>1.572295</td>\n",
              "    </tr>\n",
              "    <tr>\n",
              "      <th>4</th>\n",
              "      <td>300</td>\n",
              "      <td>5.972227</td>\n",
              "      <td>7.484</td>\n",
              "      <td>1.511773</td>\n",
              "    </tr>\n",
              "  </tbody>\n",
              "</table>\n",
              "</div>"
            ],
            "text/plain": [
              "   build_counts  avg_chip  avg_exp      Diff\n",
              "0            25  5.747840    7.484  1.736160\n",
              "1            50  5.753240    7.484  1.730760\n",
              "2           100  5.887120    7.484  1.596880\n",
              "3           200  5.911705    7.484  1.572295\n",
              "4           300  5.972227    7.484  1.511773"
            ]
          },
          "execution_count": 11,
          "metadata": {},
          "output_type": "execute_result"
        }
      ],
      "source": [
        "pd.read_sql(\n",
        "    \"\"\"\n",
        "    \n",
        "    WITH \n",
        "    chip AS (\n",
        "    SELECT '25' as build_counts, AVG(RM) as avg_chip\n",
        "    FROM (SELECT * FROM boston ORDER BY MEDV LIMIT 25)\n",
        "    UNION\n",
        "    SELECT '50', AVG(RM)\n",
        "    FROM (SELECT * FROM boston ORDER BY MEDV LIMIT 50)\n",
        "    UNION\n",
        "    SELECT '100', AVG(RM)\n",
        "    FROM (SELECT * FROM boston ORDER BY MEDV LIMIT 100)\n",
        "    UNION\n",
        "    SELECT '200', AVG(RM)\n",
        "    FROM (SELECT * FROM boston ORDER BY MEDV LIMIT 200)\n",
        "    UNION\n",
        "    SELECT '300', AVG(RM)\n",
        "    FROM (SELECT * FROM boston ORDER BY MEDV LIMIT 300)\n",
        "    ),\n",
        "    expensive AS (\n",
        "    SELECT AVG(RM) as avg_exp\n",
        "    FROM boston\n",
        "    WHERE MEDV = (SELECT MAX(MEDV) FROM boston))\n",
        "    \n",
        "    SELECT cast(build_counts as INTEGER) as build_counts,\n",
        "    avg_chip, avg_exp, avg_exp-avg_chip AS Diff\n",
        "    FROM chip, expensive\n",
        "    ORDER BY build_counts\n",
        "    \"\"\",\n",
        "    con,\n",
        ")"
      ]
    },
    {
      "cell_type": "markdown",
      "metadata": {
        "id": "Eh38FSz9iiY6"
      },
      "source": [
        "Вывод: В общем наблюдается увеличение стоимости квартир при увеличении среднего числа комнат."
      ]
    },
    {
      "cell_type": "markdown",
      "metadata": {
        "id": "g73YQU7yiiY6"
      },
      "source": [
        "# 5. Выведите ранги значений колонки LSTAT(процент населения с более низким статусом) в домах с самой дорогой стоимостью (значение LSTAT, стоимость, ранг). Напишите какой вывод можно сделать по этим данным."
      ]
    },
    {
      "cell_type": "code",
      "execution_count": null,
      "metadata": {
        "id": "eFTEBsGwiiY7",
        "outputId": "ac08a34a-5ff0-483a-a904-bab12c9fa4c9"
      },
      "outputs": [
        {
          "data": {
            "text/html": [
              "<div>\n",
              "<style scoped>\n",
              "    .dataframe tbody tr th:only-of-type {\n",
              "        vertical-align: middle;\n",
              "    }\n",
              "\n",
              "    .dataframe tbody tr th {\n",
              "        vertical-align: top;\n",
              "    }\n",
              "\n",
              "    .dataframe thead th {\n",
              "        text-align: right;\n",
              "    }\n",
              "</style>\n",
              "<table border=\"1\" class=\"dataframe\">\n",
              "  <thead>\n",
              "    <tr style=\"text-align: right;\">\n",
              "      <th></th>\n",
              "      <th>LSTAT</th>\n",
              "      <th>MEDV</th>\n",
              "      <th>rank</th>\n",
              "    </tr>\n",
              "  </thead>\n",
              "  <tbody>\n",
              "    <tr>\n",
              "      <th>0</th>\n",
              "      <td>1.73</td>\n",
              "      <td>50.0</td>\n",
              "      <td>1</td>\n",
              "    </tr>\n",
              "    <tr>\n",
              "      <th>1</th>\n",
              "      <td>1.92</td>\n",
              "      <td>50.0</td>\n",
              "      <td>2</td>\n",
              "    </tr>\n",
              "    <tr>\n",
              "      <th>2</th>\n",
              "      <td>2.88</td>\n",
              "      <td>50.0</td>\n",
              "      <td>6</td>\n",
              "    </tr>\n",
              "    <tr>\n",
              "      <th>3</th>\n",
              "      <td>2.96</td>\n",
              "      <td>50.0</td>\n",
              "      <td>8</td>\n",
              "    </tr>\n",
              "    <tr>\n",
              "      <th>4</th>\n",
              "      <td>2.97</td>\n",
              "      <td>50.0</td>\n",
              "      <td>9</td>\n",
              "    </tr>\n",
              "    <tr>\n",
              "      <th>5</th>\n",
              "      <td>3.16</td>\n",
              "      <td>50.0</td>\n",
              "      <td>15</td>\n",
              "    </tr>\n",
              "    <tr>\n",
              "      <th>6</th>\n",
              "      <td>3.26</td>\n",
              "      <td>50.0</td>\n",
              "      <td>17</td>\n",
              "    </tr>\n",
              "    <tr>\n",
              "      <th>7</th>\n",
              "      <td>3.32</td>\n",
              "      <td>50.0</td>\n",
              "      <td>18</td>\n",
              "    </tr>\n",
              "    <tr>\n",
              "      <th>8</th>\n",
              "      <td>3.70</td>\n",
              "      <td>50.0</td>\n",
              "      <td>26</td>\n",
              "    </tr>\n",
              "    <tr>\n",
              "      <th>9</th>\n",
              "      <td>3.73</td>\n",
              "      <td>50.0</td>\n",
              "      <td>27</td>\n",
              "    </tr>\n",
              "    <tr>\n",
              "      <th>10</th>\n",
              "      <td>4.45</td>\n",
              "      <td>50.0</td>\n",
              "      <td>41</td>\n",
              "    </tr>\n",
              "    <tr>\n",
              "      <th>11</th>\n",
              "      <td>4.63</td>\n",
              "      <td>50.0</td>\n",
              "      <td>50</td>\n",
              "    </tr>\n",
              "    <tr>\n",
              "      <th>12</th>\n",
              "      <td>5.12</td>\n",
              "      <td>50.0</td>\n",
              "      <td>67</td>\n",
              "    </tr>\n",
              "    <tr>\n",
              "      <th>13</th>\n",
              "      <td>7.44</td>\n",
              "      <td>50.0</td>\n",
              "      <td>141</td>\n",
              "    </tr>\n",
              "    <tr>\n",
              "      <th>14</th>\n",
              "      <td>8.88</td>\n",
              "      <td>50.0</td>\n",
              "      <td>181</td>\n",
              "    </tr>\n",
              "    <tr>\n",
              "      <th>15</th>\n",
              "      <td>9.53</td>\n",
              "      <td>50.0</td>\n",
              "      <td>203</td>\n",
              "    </tr>\n",
              "  </tbody>\n",
              "</table>\n",
              "</div>"
            ],
            "text/plain": [
              "    LSTAT  MEDV  rank\n",
              "0    1.73  50.0     1\n",
              "1    1.92  50.0     2\n",
              "2    2.88  50.0     6\n",
              "3    2.96  50.0     8\n",
              "4    2.97  50.0     9\n",
              "5    3.16  50.0    15\n",
              "6    3.26  50.0    17\n",
              "7    3.32  50.0    18\n",
              "8    3.70  50.0    26\n",
              "9    3.73  50.0    27\n",
              "10   4.45  50.0    41\n",
              "11   4.63  50.0    50\n",
              "12   5.12  50.0    67\n",
              "13   7.44  50.0   141\n",
              "14   8.88  50.0   181\n",
              "15   9.53  50.0   203"
            ]
          },
          "execution_count": 32,
          "metadata": {},
          "output_type": "execute_result"
        }
      ],
      "source": [
        "pd.read_sql(\n",
        "    \"\"\"\n",
        "    SELECT * FROM (SELECT LSTAT, MEDV,  rank() OVER (ORDER BY LSTAT) as rank\n",
        "                    FROM boston)\n",
        "    WHERE MEDV = (SELECT MAX(MEDV) FROM boston)\n",
        "\n",
        "    \"\"\",\n",
        "    con,\n",
        ")"
      ]
    },
    {
      "cell_type": "markdown",
      "metadata": {
        "id": "qk1qpyZDiiY7"
      },
      "source": [
        "Вывод: в дорогих домах низкий процент населения с низким статусом"
      ]
    },
    {
      "cell_type": "markdown",
      "metadata": {
        "id": "DfMPggIoiiY7"
      },
      "source": [
        "# 6. Выведите среднюю стоимость домов граничащих с рекой(CHAS) и нет (граничит/не граничит, стоимость)"
      ]
    },
    {
      "cell_type": "code",
      "execution_count": null,
      "metadata": {
        "id": "mMT189ChiiY8",
        "outputId": "490fae57-d51d-4e21-c197-e2aa4fc7baac"
      },
      "outputs": [
        {
          "data": {
            "text/html": [
              "<div>\n",
              "<style scoped>\n",
              "    .dataframe tbody tr th:only-of-type {\n",
              "        vertical-align: middle;\n",
              "    }\n",
              "\n",
              "    .dataframe tbody tr th {\n",
              "        vertical-align: top;\n",
              "    }\n",
              "\n",
              "    .dataframe thead th {\n",
              "        text-align: right;\n",
              "    }\n",
              "</style>\n",
              "<table border=\"1\" class=\"dataframe\">\n",
              "  <thead>\n",
              "    <tr style=\"text-align: right;\">\n",
              "      <th></th>\n",
              "      <th>river</th>\n",
              "      <th>avg_price</th>\n",
              "    </tr>\n",
              "  </thead>\n",
              "  <tbody>\n",
              "    <tr>\n",
              "      <th>0</th>\n",
              "      <td>не граничит</td>\n",
              "      <td>22.093843</td>\n",
              "    </tr>\n",
              "    <tr>\n",
              "      <th>1</th>\n",
              "      <td>граничит</td>\n",
              "      <td>28.440000</td>\n",
              "    </tr>\n",
              "  </tbody>\n",
              "</table>\n",
              "</div>"
            ],
            "text/plain": [
              "         river  avg_price\n",
              "0  не граничит  22.093843\n",
              "1     граничит  28.440000"
            ]
          },
          "execution_count": 39,
          "metadata": {},
          "output_type": "execute_result"
        }
      ],
      "source": [
        "pd.read_sql(\n",
        "    \"\"\"\n",
        "    SELECT DISTINCT (CASE WHEN CHAS=1 THEN 'граничит' ELSE 'не граничит' END) as river, \n",
        "    AVG(MEDV) OVER (PARTITION BY CHAS) as avg_price\n",
        "    FROM boston\n",
        "\n",
        "    \"\"\",\n",
        "    con,\n",
        ")"
      ]
    },
    {
      "cell_type": "markdown",
      "metadata": {
        "id": "3PiPHJf3iiY8"
      },
      "source": [
        "# 7. Выведите все колонки, у которых среднее значение выше, когда дом граничит с рекой (название колонки) выбирая из CRIM, ZN, INDUS, CHAS, NOX. Напишите какой вывод можно сделать по этим данным."
      ]
    },
    {
      "cell_type": "code",
      "execution_count": null,
      "metadata": {
        "id": "lrxKq392iiY8",
        "outputId": "35169112-5ffa-48cb-a3ca-e2e139276a16"
      },
      "outputs": [
        {
          "data": {
            "text/html": [
              "<div>\n",
              "<style scoped>\n",
              "    .dataframe tbody tr th:only-of-type {\n",
              "        vertical-align: middle;\n",
              "    }\n",
              "\n",
              "    .dataframe tbody tr th {\n",
              "        vertical-align: top;\n",
              "    }\n",
              "\n",
              "    .dataframe thead th {\n",
              "        text-align: right;\n",
              "    }\n",
              "</style>\n",
              "<table border=\"1\" class=\"dataframe\">\n",
              "  <thead>\n",
              "    <tr style=\"text-align: right;\">\n",
              "      <th></th>\n",
              "      <th>flag</th>\n",
              "    </tr>\n",
              "  </thead>\n",
              "  <tbody>\n",
              "    <tr>\n",
              "      <th>0</th>\n",
              "      <td>INDUS</td>\n",
              "    </tr>\n",
              "    <tr>\n",
              "      <th>1</th>\n",
              "      <td>NOX</td>\n",
              "    </tr>\n",
              "  </tbody>\n",
              "</table>\n",
              "</div>"
            ],
            "text/plain": [
              "    flag\n",
              "0  INDUS\n",
              "1    NOX"
            ]
          },
          "execution_count": 51,
          "metadata": {},
          "output_type": "execute_result"
        }
      ],
      "source": [
        "pd.read_sql(\n",
        "    \"\"\"\n",
        "\n",
        "    WITH table1 AS (\n",
        "    SELECT\n",
        "        CASE WHEN AVG(CRIM) < (SELECT AVG(CRIM) FROM boston WHERE CHAS = 1) THEN 'CRIM' ELSE 'NO' END flag\n",
        "    FROM boston\n",
        "    UNION\n",
        "    SELECT\n",
        "        CASE WHEN AVG(ZN) < (SELECT AVG(ZN) FROM boston WHERE CHAS = 1) THEN 'ZN' ELSE 'NO' END flag\n",
        "    FROM boston\n",
        "    UNION\n",
        "    SELECT\n",
        "        CASE WHEN AVG(INDUS) < (SELECT AVG(INDUS) FROM boston WHERE CHAS = 1) THEN 'INDUS' ELSE 'NO' END flag\n",
        "    FROM boston\n",
        "    UNION\n",
        "    SELECT\n",
        "        CASE WHEN AVG(NOX) < (SELECT AVG(NOX) FROM boston WHERE CHAS = 1) THEN 'NOX' ELSE 'NO' END flag\n",
        "    FROM boston\n",
        "    )\n",
        "    SELECT *\n",
        "    FROM table1\n",
        "    WHERE flag != 'NO'\n",
        " \n",
        "    \"\"\",\n",
        "    con,\n",
        ")"
      ]
    },
    {
      "cell_type": "markdown",
      "metadata": {
        "id": "lEqQGJuKiiY9"
      },
      "source": [
        "Вывод: рядом с рекой в среднем больше объектов неторгового бизнеса чем во всем городе, также рядом с рекой увеличена концентрация оксида озота"
      ]
    },
    {
      "cell_type": "markdown",
      "metadata": {
        "id": "U2wb7xHsiiY9"
      },
      "source": [
        "# 8. Выведите значения долей промышленной застройки(INDUS), концентрации оксидов азота(NOX) и по их перцентилям - 10, 20 ... 100 ( перцетиль(10,20...100),значение INDUS, значение NOX). Напишите прослеживается между ними взаимосвязь"
      ]
    },
    {
      "cell_type": "code",
      "execution_count": null,
      "metadata": {
        "id": "V9K1oHBjiiY9",
        "outputId": "d066f87d-fdf3-423e-eb7f-c7bb357eaca8"
      },
      "outputs": [
        {
          "data": {
            "text/html": [
              "<div>\n",
              "<style scoped>\n",
              "    .dataframe tbody tr th:only-of-type {\n",
              "        vertical-align: middle;\n",
              "    }\n",
              "\n",
              "    .dataframe tbody tr th {\n",
              "        vertical-align: top;\n",
              "    }\n",
              "\n",
              "    .dataframe thead th {\n",
              "        text-align: right;\n",
              "    }\n",
              "</style>\n",
              "<table border=\"1\" class=\"dataframe\">\n",
              "  <thead>\n",
              "    <tr style=\"text-align: right;\">\n",
              "      <th></th>\n",
              "      <th>percentile</th>\n",
              "      <th>perc_INDUS</th>\n",
              "      <th>perc_NOX</th>\n",
              "    </tr>\n",
              "  </thead>\n",
              "  <tbody>\n",
              "    <tr>\n",
              "      <th>0</th>\n",
              "      <td>10</td>\n",
              "      <td>2.016078</td>\n",
              "      <td>0.438378</td>\n",
              "    </tr>\n",
              "    <tr>\n",
              "      <th>1</th>\n",
              "      <td>20</td>\n",
              "      <td>3.645294</td>\n",
              "      <td>0.494129</td>\n",
              "    </tr>\n",
              "    <tr>\n",
              "      <th>2</th>\n",
              "      <td>30</td>\n",
              "      <td>5.246275</td>\n",
              "      <td>0.448235</td>\n",
              "    </tr>\n",
              "    <tr>\n",
              "      <th>3</th>\n",
              "      <td>40</td>\n",
              "      <td>6.471765</td>\n",
              "      <td>0.470839</td>\n",
              "    </tr>\n",
              "    <tr>\n",
              "      <th>4</th>\n",
              "      <td>50</td>\n",
              "      <td>8.256078</td>\n",
              "      <td>0.531510</td>\n",
              "    </tr>\n",
              "    <tr>\n",
              "      <th>5</th>\n",
              "      <td>60</td>\n",
              "      <td>10.749216</td>\n",
              "      <td>0.515176</td>\n",
              "    </tr>\n",
              "    <tr>\n",
              "      <th>6</th>\n",
              "      <td>70</td>\n",
              "      <td>17.245800</td>\n",
              "      <td>0.564920</td>\n",
              "    </tr>\n",
              "    <tr>\n",
              "      <th>7</th>\n",
              "      <td>80</td>\n",
              "      <td>18.100000</td>\n",
              "      <td>0.684880</td>\n",
              "    </tr>\n",
              "    <tr>\n",
              "      <th>8</th>\n",
              "      <td>90</td>\n",
              "      <td>18.307200</td>\n",
              "      <td>0.714620</td>\n",
              "    </tr>\n",
              "    <tr>\n",
              "      <th>9</th>\n",
              "      <td>100</td>\n",
              "      <td>21.938800</td>\n",
              "      <td>0.692860</td>\n",
              "    </tr>\n",
              "  </tbody>\n",
              "</table>\n",
              "</div>"
            ],
            "text/plain": [
              "   percentile  perc_INDUS  perc_NOX\n",
              "0          10    2.016078  0.438378\n",
              "1          20    3.645294  0.494129\n",
              "2          30    5.246275  0.448235\n",
              "3          40    6.471765  0.470839\n",
              "4          50    8.256078  0.531510\n",
              "5          60   10.749216  0.515176\n",
              "6          70   17.245800  0.564920\n",
              "7          80   18.100000  0.684880\n",
              "8          90   18.307200  0.714620\n",
              "9         100   21.938800  0.692860"
            ]
          },
          "execution_count": 57,
          "metadata": {},
          "output_type": "execute_result"
        }
      ],
      "source": [
        "pd.read_sql(\n",
        "    \"\"\"\n",
        "    SELECT percentile * 10 AS percentile, AVG(INDUS) AS perc_INDUS, AVG(NOX) AS perc_NOX\n",
        "    FROM (SELECT NTILE(10) OVER (ORDER BY INDUS, NOX) AS percentile, INDUS, NOX\n",
        "        FROM boston)\n",
        "    GROUP BY percentile\n",
        "    \"\"\",\n",
        "    con,\n",
        ")"
      ]
    },
    {
      "cell_type": "markdown",
      "metadata": {
        "id": "clWQz5okiiY-"
      },
      "source": [
        "Вывод: с увеличением доли акров неторгового бизнеса в районе увеличивается концентрация оксидов азота."
      ]
    },
    {
      "cell_type": "raw",
      "metadata": {
        "id": "V4E8gF8WiiY-"
      },
      "source": [
        "CRIM - уровень преступности на душу населения\n",
        "ZN - доля земель под жилую застройку зонирована под участки площадью более 25 000 кв. футов.\n",
        "INDUS - доля акров неторгового бизнеса на город.\n",
        "CHAS - 1, если граничит с рекой, 0 иначе\n",
        "NOX - концентрация оксидов азота (частей на 10 миллионов)\n",
        "RM - среднее количество комнат в квартире\n",
        "AGE - доля жилых домов, построенных до 1940 г.\n",
        "DIS - взвешенные расстояния до пяти центров занятости Бостона\n",
        "RAD - индекс доступности к радиальным магистралям\n",
        "TAX - полная ставка налога на имущество за 10 000 долларов США\n",
        "PTRATIO - соотношение учеников и учителей по городам\n",
        "B - 1000(Bk - 0.63)^2, где Bk доля чернокожих людей по городам\n",
        "LSTAT - % более низкого статуса населения\n",
        "MEDV - Средняя стоимость домов в 1000 долларов."
      ]
    }
  ],
  "metadata": {
    "kernelspec": {
      "display_name": "Python 3 (ipykernel)",
      "language": "python",
      "name": "python3"
    },
    "language_info": {
      "codemirror_mode": {
        "name": "ipython",
        "version": 3
      },
      "file_extension": ".py",
      "mimetype": "text/x-python",
      "name": "python",
      "nbconvert_exporter": "python",
      "pygments_lexer": "ipython3",
      "version": "3.9.7"
    },
    "colab": {
      "provenance": []
    }
  },
  "nbformat": 4,
  "nbformat_minor": 0
}