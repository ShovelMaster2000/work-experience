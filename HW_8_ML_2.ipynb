{
  "cells": [
    {
      "cell_type": "code",
      "execution_count": null,
      "metadata": {
        "id": "wGKlJj7Vor0I"
      },
      "outputs": [],
      "source": [
        "import pandas as pd\n",
        "import numpy as np"
      ]
    },
    {
      "cell_type": "code",
      "execution_count": null,
      "metadata": {
        "id": "zgoYu4NzqU8h"
      },
      "outputs": [],
      "source": [
        "random_state=42"
      ]
    },
    {
      "cell_type": "markdown",
      "metadata": {
        "id": "S0_mK_yfor0J"
      },
      "source": [
        "https://archive.ics.uci.edu/ml/datasets/wine+quality"
      ]
    },
    {
      "cell_type": "code",
      "execution_count": null,
      "metadata": {
        "colab": {
          "base_uri": "https://localhost:8080/",
          "height": 206
        },
        "id": "RKmfaeIlor0L",
        "outputId": "770a7e53-2819-4129-b4b7-acd11af48fdc"
      },
      "outputs": [
        {
          "data": {
            "text/html": [
              "\n",
              "  <div id=\"df-1a60958f-0fb1-4e5a-a774-2e6fbb0596cb\">\n",
              "    <div class=\"colab-df-container\">\n",
              "      <div>\n",
              "<style scoped>\n",
              "    .dataframe tbody tr th:only-of-type {\n",
              "        vertical-align: middle;\n",
              "    }\n",
              "\n",
              "    .dataframe tbody tr th {\n",
              "        vertical-align: top;\n",
              "    }\n",
              "\n",
              "    .dataframe thead th {\n",
              "        text-align: right;\n",
              "    }\n",
              "</style>\n",
              "<table border=\"1\" class=\"dataframe\">\n",
              "  <thead>\n",
              "    <tr style=\"text-align: right;\">\n",
              "      <th></th>\n",
              "      <th>fixed acidity</th>\n",
              "      <th>volatile acidity</th>\n",
              "      <th>citric acid</th>\n",
              "      <th>residual sugar</th>\n",
              "      <th>chlorides</th>\n",
              "      <th>free sulfur dioxide</th>\n",
              "      <th>total sulfur dioxide</th>\n",
              "      <th>density</th>\n",
              "      <th>pH</th>\n",
              "      <th>sulphates</th>\n",
              "      <th>alcohol</th>\n",
              "      <th>quality</th>\n",
              "    </tr>\n",
              "  </thead>\n",
              "  <tbody>\n",
              "    <tr>\n",
              "      <th>0</th>\n",
              "      <td>7.4</td>\n",
              "      <td>0.70</td>\n",
              "      <td>0.00</td>\n",
              "      <td>1.9</td>\n",
              "      <td>0.076</td>\n",
              "      <td>11.0</td>\n",
              "      <td>34.0</td>\n",
              "      <td>0.9978</td>\n",
              "      <td>3.51</td>\n",
              "      <td>0.56</td>\n",
              "      <td>9.4</td>\n",
              "      <td>5</td>\n",
              "    </tr>\n",
              "    <tr>\n",
              "      <th>1</th>\n",
              "      <td>7.8</td>\n",
              "      <td>0.88</td>\n",
              "      <td>0.00</td>\n",
              "      <td>2.6</td>\n",
              "      <td>0.098</td>\n",
              "      <td>25.0</td>\n",
              "      <td>67.0</td>\n",
              "      <td>0.9968</td>\n",
              "      <td>3.20</td>\n",
              "      <td>0.68</td>\n",
              "      <td>9.8</td>\n",
              "      <td>5</td>\n",
              "    </tr>\n",
              "    <tr>\n",
              "      <th>2</th>\n",
              "      <td>7.8</td>\n",
              "      <td>0.76</td>\n",
              "      <td>0.04</td>\n",
              "      <td>2.3</td>\n",
              "      <td>0.092</td>\n",
              "      <td>15.0</td>\n",
              "      <td>54.0</td>\n",
              "      <td>0.9970</td>\n",
              "      <td>3.26</td>\n",
              "      <td>0.65</td>\n",
              "      <td>9.8</td>\n",
              "      <td>5</td>\n",
              "    </tr>\n",
              "    <tr>\n",
              "      <th>3</th>\n",
              "      <td>11.2</td>\n",
              "      <td>0.28</td>\n",
              "      <td>0.56</td>\n",
              "      <td>1.9</td>\n",
              "      <td>0.075</td>\n",
              "      <td>17.0</td>\n",
              "      <td>60.0</td>\n",
              "      <td>0.9980</td>\n",
              "      <td>3.16</td>\n",
              "      <td>0.58</td>\n",
              "      <td>9.8</td>\n",
              "      <td>6</td>\n",
              "    </tr>\n",
              "    <tr>\n",
              "      <th>4</th>\n",
              "      <td>7.4</td>\n",
              "      <td>0.70</td>\n",
              "      <td>0.00</td>\n",
              "      <td>1.9</td>\n",
              "      <td>0.076</td>\n",
              "      <td>11.0</td>\n",
              "      <td>34.0</td>\n",
              "      <td>0.9978</td>\n",
              "      <td>3.51</td>\n",
              "      <td>0.56</td>\n",
              "      <td>9.4</td>\n",
              "      <td>5</td>\n",
              "    </tr>\n",
              "  </tbody>\n",
              "</table>\n",
              "</div>\n",
              "      <button class=\"colab-df-convert\" onclick=\"convertToInteractive('df-1a60958f-0fb1-4e5a-a774-2e6fbb0596cb')\"\n",
              "              title=\"Convert this dataframe to an interactive table.\"\n",
              "              style=\"display:none;\">\n",
              "        \n",
              "  <svg xmlns=\"http://www.w3.org/2000/svg\" height=\"24px\"viewBox=\"0 0 24 24\"\n",
              "       width=\"24px\">\n",
              "    <path d=\"M0 0h24v24H0V0z\" fill=\"none\"/>\n",
              "    <path d=\"M18.56 5.44l.94 2.06.94-2.06 2.06-.94-2.06-.94-.94-2.06-.94 2.06-2.06.94zm-11 1L8.5 8.5l.94-2.06 2.06-.94-2.06-.94L8.5 2.5l-.94 2.06-2.06.94zm10 10l.94 2.06.94-2.06 2.06-.94-2.06-.94-.94-2.06-.94 2.06-2.06.94z\"/><path d=\"M17.41 7.96l-1.37-1.37c-.4-.4-.92-.59-1.43-.59-.52 0-1.04.2-1.43.59L10.3 9.45l-7.72 7.72c-.78.78-.78 2.05 0 2.83L4 21.41c.39.39.9.59 1.41.59.51 0 1.02-.2 1.41-.59l7.78-7.78 2.81-2.81c.8-.78.8-2.07 0-2.86zM5.41 20L4 18.59l7.72-7.72 1.47 1.35L5.41 20z\"/>\n",
              "  </svg>\n",
              "      </button>\n",
              "      \n",
              "  <style>\n",
              "    .colab-df-container {\n",
              "      display:flex;\n",
              "      flex-wrap:wrap;\n",
              "      gap: 12px;\n",
              "    }\n",
              "\n",
              "    .colab-df-convert {\n",
              "      background-color: #E8F0FE;\n",
              "      border: none;\n",
              "      border-radius: 50%;\n",
              "      cursor: pointer;\n",
              "      display: none;\n",
              "      fill: #1967D2;\n",
              "      height: 32px;\n",
              "      padding: 0 0 0 0;\n",
              "      width: 32px;\n",
              "    }\n",
              "\n",
              "    .colab-df-convert:hover {\n",
              "      background-color: #E2EBFA;\n",
              "      box-shadow: 0px 1px 2px rgba(60, 64, 67, 0.3), 0px 1px 3px 1px rgba(60, 64, 67, 0.15);\n",
              "      fill: #174EA6;\n",
              "    }\n",
              "\n",
              "    [theme=dark] .colab-df-convert {\n",
              "      background-color: #3B4455;\n",
              "      fill: #D2E3FC;\n",
              "    }\n",
              "\n",
              "    [theme=dark] .colab-df-convert:hover {\n",
              "      background-color: #434B5C;\n",
              "      box-shadow: 0px 1px 3px 1px rgba(0, 0, 0, 0.15);\n",
              "      filter: drop-shadow(0px 1px 2px rgba(0, 0, 0, 0.3));\n",
              "      fill: #FFFFFF;\n",
              "    }\n",
              "  </style>\n",
              "\n",
              "      <script>\n",
              "        const buttonEl =\n",
              "          document.querySelector('#df-1a60958f-0fb1-4e5a-a774-2e6fbb0596cb button.colab-df-convert');\n",
              "        buttonEl.style.display =\n",
              "          google.colab.kernel.accessAllowed ? 'block' : 'none';\n",
              "\n",
              "        async function convertToInteractive(key) {\n",
              "          const element = document.querySelector('#df-1a60958f-0fb1-4e5a-a774-2e6fbb0596cb');\n",
              "          const dataTable =\n",
              "            await google.colab.kernel.invokeFunction('convertToInteractive',\n",
              "                                                     [key], {});\n",
              "          if (!dataTable) return;\n",
              "\n",
              "          const docLinkHtml = 'Like what you see? Visit the ' +\n",
              "            '<a target=\"_blank\" href=https://colab.research.google.com/notebooks/data_table.ipynb>data table notebook</a>'\n",
              "            + ' to learn more about interactive tables.';\n",
              "          element.innerHTML = '';\n",
              "          dataTable['output_type'] = 'display_data';\n",
              "          await google.colab.output.renderOutput(dataTable, element);\n",
              "          const docLink = document.createElement('div');\n",
              "          docLink.innerHTML = docLinkHtml;\n",
              "          element.appendChild(docLink);\n",
              "        }\n",
              "      </script>\n",
              "    </div>\n",
              "  </div>\n",
              "  "
            ],
            "text/plain": [
              "   fixed acidity  volatile acidity  citric acid  residual sugar  chlorides  \\\n",
              "0            7.4              0.70         0.00             1.9      0.076   \n",
              "1            7.8              0.88         0.00             2.6      0.098   \n",
              "2            7.8              0.76         0.04             2.3      0.092   \n",
              "3           11.2              0.28         0.56             1.9      0.075   \n",
              "4            7.4              0.70         0.00             1.9      0.076   \n",
              "\n",
              "   free sulfur dioxide  total sulfur dioxide  density    pH  sulphates  \\\n",
              "0                 11.0                  34.0   0.9978  3.51       0.56   \n",
              "1                 25.0                  67.0   0.9968  3.20       0.68   \n",
              "2                 15.0                  54.0   0.9970  3.26       0.65   \n",
              "3                 17.0                  60.0   0.9980  3.16       0.58   \n",
              "4                 11.0                  34.0   0.9978  3.51       0.56   \n",
              "\n",
              "   alcohol  quality  \n",
              "0      9.4        5  \n",
              "1      9.8        5  \n",
              "2      9.8        5  \n",
              "3      9.8        6  \n",
              "4      9.4        5  "
            ]
          },
          "execution_count": 3,
          "metadata": {},
          "output_type": "execute_result"
        }
      ],
      "source": [
        "link = 'https://archive.ics.uci.edu/ml/machine-learning-databases/wine-quality/winequality-red.csv'\n",
        "data = pd.read_csv(link, sep=';')\n",
        "data.head()"
      ]
    },
    {
      "cell_type": "code",
      "execution_count": null,
      "metadata": {
        "colab": {
          "base_uri": "https://localhost:8080/"
        },
        "id": "mmUGxBcopKbg",
        "outputId": "e674fcc6-1ed4-4567-bd66-9ede56ceec1b"
      },
      "outputs": [
        {
          "data": {
            "text/plain": [
              "(1599, 12)"
            ]
          },
          "execution_count": 4,
          "metadata": {},
          "output_type": "execute_result"
        }
      ],
      "source": [
        "data.shape"
      ]
    },
    {
      "cell_type": "code",
      "execution_count": null,
      "metadata": {
        "colab": {
          "base_uri": "https://localhost:8080/"
        },
        "id": "ZDVe00AmpMtb",
        "outputId": "fd76f7b1-0a3e-4c3e-f364-90efe8fd72dd"
      },
      "outputs": [
        {
          "data": {
            "text/plain": [
              "fixed acidity           0\n",
              "volatile acidity        0\n",
              "citric acid             0\n",
              "residual sugar          0\n",
              "chlorides               0\n",
              "free sulfur dioxide     0\n",
              "total sulfur dioxide    0\n",
              "density                 0\n",
              "pH                      0\n",
              "sulphates               0\n",
              "alcohol                 0\n",
              "quality                 0\n",
              "dtype: int64"
            ]
          },
          "execution_count": 5,
          "metadata": {},
          "output_type": "execute_result"
        }
      ],
      "source": [
        "data.isnull().sum()"
      ]
    },
    {
      "cell_type": "code",
      "execution_count": null,
      "metadata": {
        "colab": {
          "base_uri": "https://localhost:8080/"
        },
        "id": "vOSKGBGnqEv3",
        "outputId": "3a046449-29e6-4b27-e405-5f67dea0075e"
      },
      "outputs": [
        {
          "data": {
            "text/plain": [
              "array([5, 6, 7, 4, 8, 3])"
            ]
          },
          "execution_count": 6,
          "metadata": {},
          "output_type": "execute_result"
        }
      ],
      "source": [
        "data['quality'].unique()"
      ]
    },
    {
      "cell_type": "code",
      "execution_count": null,
      "metadata": {
        "id": "-j5MY8HFpxDs"
      },
      "outputs": [],
      "source": [
        "from sklearn.model_selection import train_test_split"
      ]
    },
    {
      "cell_type": "code",
      "execution_count": null,
      "metadata": {
        "id": "vXuE-X6RpqR1"
      },
      "outputs": [],
      "source": [
        "X_train, X_test, y_train, y_test = train_test_split(data.drop('quality', axis=1), data['quality'], test_size=0.2)"
      ]
    },
    {
      "cell_type": "markdown",
      "metadata": {
        "id": "4R_2Aw_For0M"
      },
      "source": [
        "# 1.Оцените качество по метрике accuracy для классификаторов:\n",
        "\n",
        "DecisionTreeClassifier\n",
        "\n",
        "BaggingClassifier со 100 деревьями\n",
        "\n",
        "RandomForestClassifier со 100 деревьями\n",
        "\n",
        "Сравните результаты и напишите какой вывод можно сделать."
      ]
    },
    {
      "cell_type": "code",
      "execution_count": null,
      "metadata": {
        "id": "fX66fPXjor0N"
      },
      "outputs": [],
      "source": [
        "from sklearn.tree import DecisionTreeClassifier\n",
        "from sklearn.ensemble import BaggingClassifier\n",
        "from sklearn.ensemble import RandomForestClassifier\n",
        "from sklearn.metrics import accuracy_score"
      ]
    },
    {
      "cell_type": "code",
      "execution_count": null,
      "metadata": {
        "id": "sevtLgn7pmSU"
      },
      "outputs": [],
      "source": [
        "clf_dec_tree = DecisionTreeClassifier()\n",
        "clf_bag = BaggingClassifier(n_estimators=100)\n",
        "clf_rand_for = RandomForestClassifier(n_estimators=100)"
      ]
    },
    {
      "cell_type": "code",
      "execution_count": null,
      "metadata": {
        "id": "SYXRbOYjr2qU"
      },
      "outputs": [],
      "source": [
        "clf_dec_tree.fit(X_train, y_train)\n",
        "clf_bag.fit(X_train, y_train)\n",
        "clf_rand_for.fit(X_train, y_train)"
      ]
    },
    {
      "cell_type": "code",
      "execution_count": null,
      "metadata": {
        "colab": {
          "base_uri": "https://localhost:8080/"
        },
        "id": "Qt7mW70_sC0J",
        "outputId": "cc299f07-0fe6-439e-f103-52b1572ab7ff"
      },
      "outputs": [
        {
          "name": "stdout",
          "output_type": "stream",
          "text": [
            "Accuracy for: DecisionTreeClassifier 0.63125\n",
            "Accuracy for: BaggingClassifier 0.70625\n",
            "Accuracy for: RandomForestClassifier 0.7125\n"
          ]
        }
      ],
      "source": [
        "accur_dec_tree = accuracy_score(y_test, clf_dec_tree.predict(X_test))\n",
        "accur_bag = accuracy_score(y_test, clf_bag.predict(X_test))\n",
        "accur_rand_for = accuracy_score(y_test, clf_rand_for.predict(X_test))\n",
        "print('Accuracy for: DecisionTreeClassifier', accur_dec_tree)\n",
        "print('Accuracy for: BaggingClassifier', accur_bag)\n",
        "print('Accuracy for: RandomForestClassifier', accur_rand_for)"
      ]
    },
    {
      "cell_type": "markdown",
      "metadata": {
        "id": "O8qMjJAps9zx"
      },
      "source": [
        "**Вывод:** 100 моделей лучше классифицируют объекты чем 1 модель"
      ]
    },
    {
      "cell_type": "markdown",
      "metadata": {
        "id": "Yab-D5wTor0O"
      },
      "source": [
        "# 2.Разделите выборку на обучающую и тестовую в отношении 70%/30%"
      ]
    },
    {
      "cell_type": "code",
      "execution_count": null,
      "metadata": {
        "id": "WV0F5U-Mor0P"
      },
      "outputs": [],
      "source": [
        "X_train, X_test, y_train, y_test = train_test_split(data.drop('quality', axis=1), data['quality'], test_size=0.3)"
      ]
    },
    {
      "cell_type": "markdown",
      "metadata": {
        "id": "0RtQlrKXor0P"
      },
      "source": [
        "# 3.Посчитайте качество на тестовой выборке по метрике accuracy для классификатора RandomForestClassifier, используя значения деревьев:\n",
        "    \n",
        "10, 50, 100, 200, далее с шагом 200 до 5000 деревьев.\n",
        "Постройте график зависимости качества от числа деревьев.\n",
        "\n"
      ]
    },
    {
      "cell_type": "code",
      "execution_count": null,
      "metadata": {
        "colab": {
          "base_uri": "https://localhost:8080/"
        },
        "id": "uKPqLQlKor0Q",
        "outputId": "97c33c5a-3983-4224-ed14-9ffd496f0dac"
      },
      "outputs": [
        {
          "name": "stdout",
          "output_type": "stream",
          "text": [
            "[10, 50, 100, 200, 400, 600, 800, 1000, 1200, 1400, 1600, 1800, 2000, 2200, 2400, 2600, 2800, 3000, 3200, 3400, 3600, 3800, 4000, 4200, 4400, 4600, 4800, 5000]\n"
          ]
        }
      ],
      "source": [
        "n_estimators = [10, 50, 100, 200] + list(np.arange(400, 5001, 200))\n",
        "print(n_estimators)"
      ]
    },
    {
      "cell_type": "code",
      "execution_count": null,
      "metadata": {
        "id": "ZorEoT6hvvDg"
      },
      "outputs": [],
      "source": [
        "results = {}\n",
        "for n_estimator in n_estimators:\n",
        "  clf = RandomForestClassifier(n_estimators=n_estimator)\n",
        "  clf.fit(X_train, y_train)\n",
        "  accuracy = accuracy_score(y_test, clf.predict(X_test))\n",
        "  results[n_estimator] = accuracy"
      ]
    },
    {
      "cell_type": "code",
      "execution_count": null,
      "metadata": {
        "id": "v7MST8B3x5Gm"
      },
      "outputs": [],
      "source": [
        "import matplotlib.pyplot as plt"
      ]
    },
    {
      "cell_type": "code",
      "execution_count": null,
      "metadata": {
        "colab": {
          "base_uri": "https://localhost:8080/",
          "height": 350
        },
        "id": "cu7fbaLqyi0H",
        "outputId": "2d1f140c-66ac-4f35-9344-9dd05cffe90c"
      },
      "outputs": [
        {
          "data": {
            "image/png": "[encoded data removed]",
            "text/plain": [
              "<Figure size 720x360 with 1 Axes>"
            ]
          },
          "metadata": {
            "needs_background": "light"
          },
          "output_type": "display_data"
        }
      ],
      "source": [
        "fig, ax = plt.subplots()\n",
        "ax.plot(list(results.keys()), list(results.values()))\n",
        "ax.set_xlabel('Число деревьев')\n",
        "ax.set_ylabel('Accuracy')\n",
        "ax.set_title('Качество модели от числа деревьев')\n",
        "fig.set_size_inches(10, 5)\n",
        "plt.show()"
      ]
    },
    {
      "cell_type": "markdown",
      "metadata": {
        "id": "8R49m6o4or0Q"
      },
      "source": [
        "# 4.Обучите реализации градиентного бустинга с параметрами по умолчанию из библиотек sklearn и xgboost. Сравните значение метрики accuracy по cross_val_score"
      ]
    },
    {
      "cell_type": "code",
      "execution_count": null,
      "metadata": {
        "id": "CTi1nO1cor0S"
      },
      "outputs": [],
      "source": [
        "from sklearn.model_selection import cross_val_score\n",
        "from sklearn.ensemble import GradientBoostingClassifier"
      ]
    },
    {
      "cell_type": "code",
      "execution_count": null,
      "metadata": {
        "id": "sKztYDZ52kFv"
      },
      "outputs": [],
      "source": [
        "!pip install xgboost\n",
        "from xgboost import XGBClassifier"
      ]
    },
    {
      "cell_type": "code",
      "execution_count": null,
      "metadata": {
        "colab": {
          "base_uri": "https://localhost:8080/"
        },
        "id": "fJ-cM7eD2v-F",
        "outputId": "7b29144c-2469-411a-b419-0cb83f0ed78e"
      },
      "outputs": [
        {
          "data": {
            "text/plain": [
              "0.5615967868338558"
            ]
          },
          "execution_count": 22,
          "metadata": {},
          "output_type": "execute_result"
        }
      ],
      "source": [
        "cross_val_score(GradientBoostingClassifier(),\n",
        "                data.drop('quality', axis=1), \n",
        "                data['quality'],\n",
        "                scoring='accuracy').mean()"
      ]
    },
    {
      "cell_type": "code",
      "execution_count": null,
      "metadata": {
        "colab": {
          "base_uri": "https://localhost:8080/"
        },
        "id": "LuaPISJF3aFo",
        "outputId": "d3478a6b-5629-475a-8cdb-e85d3855ebc7"
      },
      "outputs": [
        {
          "data": {
            "text/plain": [
              "0.5690987460815047"
            ]
          },
          "execution_count": 23,
          "metadata": {},
          "output_type": "execute_result"
        }
      ],
      "source": [
        "cross_val_score(XGBClassifier(),\n",
        "                data.drop('quality', axis=1), \n",
        "                data['quality'],\n",
        "                scoring='accuracy').mean()"
      ]
    },
    {
      "cell_type": "markdown",
      "metadata": {
        "id": "_QSmtROJ3gJQ"
      },
      "source": [
        "**Вывод:** градиентный бустинг с параметрами по умолчанию из библиотеки xgboost показал лучшее качество."
      ]
    },
    {
      "cell_type": "markdown",
      "metadata": {
        "id": "QZC7tvDvor0T"
      },
      "source": [
        "# 5.Подберите оптимальные параметры этих алгоритмов с помощью GridSearchCV(cv=3).\n",
        "Параметры для оптимизации:\n",
        "\n",
        "оптимизируемый функционал\n",
        "\n",
        "скорость обучения\n",
        "\n",
        "количество деревьев\n",
        "\n",
        "глубина деревьев\n",
        "\n",
        "Сравните значение метрики accuracy и скорость работы. Выведите лучшие параметры алгоритмов."
      ]
    },
    {
      "cell_type": "code",
      "execution_count": null,
      "metadata": {
        "id": "DLZhacSR5GWY"
      },
      "outputs": [],
      "source": [
        "from sklearn.model_selection import GridSearchCV"
      ]
    },
    {
      "cell_type": "code",
      "execution_count": null,
      "metadata": {
        "id": "Yai_-wRDor0T"
      },
      "outputs": [],
      "source": [
        "params = {'loss': ['log_loss', 'deviance', 'exponential'],\n",
        "          'learning_rate': [0.001, 0.01, 0.1],\n",
        "          'n_estimators': [100, 200, 500],\n",
        "          'max_depth': [5, 10, 50]}"
      ]
    },
    {
      "cell_type": "code",
      "execution_count": null,
      "metadata": {
        "colab": {
          "base_uri": "https://localhost:8080/"
        },
        "collapsed": true,
        "id": "roU0Q8Zu5QDU",
        "outputId": "75c3fc64-33a7-45e5-f892-6225ac252960"
      },
      "outputs": [
        {
          "name": "stderr",
          "output_type": "stream",
          "text": [
            "/usr/local/lib/python3.7/dist-packages/sklearn/model_selection/_validation.py:372: FitFailedWarning: \n",
            "162 fits failed out of a total of 243.\n",
            "The score on these train-test partitions for these parameters will be set to nan.\n",
            "If these failures are not expected, you can try to debug them by setting error_score='raise'.\n",
            "\n",
            "Below are more details about the failures:\n",
            "--------------------------------------------------------------------------------\n",
            "81 fits failed with the following error:\n",
            "Traceback (most recent call last):\n",
            "  File \"/usr/local/lib/python3.7/dist-packages/sklearn/model_selection/_validation.py\", line 680, in _fit_and_score\n",
            "    estimator.fit(X_train, y_train, **fit_params)\n",
            "  File \"/usr/local/lib/python3.7/dist-packages/sklearn/ensemble/_gb.py\", line 525, in fit\n",
            "    self._check_params()\n",
            "  File \"/usr/local/lib/python3.7/dist-packages/sklearn/ensemble/_gb.py\", line 282, in _check_params\n",
            "    raise ValueError(\"Loss '{0:s}' not supported. \".format(self.loss))\n",
            "ValueError: Loss 'log_loss' not supported. \n",
            "\n",
            "--------------------------------------------------------------------------------\n",
            "81 fits failed with the following error:\n",
            "Traceback (most recent call last):\n",
            "  File \"/usr/local/lib/python3.7/dist-packages/sklearn/model_selection/_validation.py\", line 680, in _fit_and_score\n",
            "    estimator.fit(X_train, y_train, **fit_params)\n",
            "  File \"/usr/local/lib/python3.7/dist-packages/sklearn/ensemble/_gb.py\", line 525, in fit\n",
            "    self._check_params()\n",
            "  File \"/usr/local/lib/python3.7/dist-packages/sklearn/ensemble/_gb.py\", line 310, in _check_params\n",
            "    self.loss_ = loss_class(self.n_classes_)\n",
            "  File \"/usr/local/lib/python3.7/dist-packages/sklearn/ensemble/_gb_losses.py\", line 892, in __init__\n",
            "    self.__class__.__name__, n_classes\n",
            "ValueError: ExponentialLoss requires 2 classes; got 6 class(es)\n",
            "\n",
            "  warnings.warn(some_fits_failed_message, FitFailedWarning)\n",
            "/usr/local/lib/python3.7/dist-packages/sklearn/model_selection/_search.py:972: UserWarning: One or more of the test scores are non-finite: [       nan        nan        nan        nan        nan        nan\n",
            "        nan        nan        nan 0.55942806 0.57551385 0.59874888\n",
            " 0.56300268 0.56032172 0.5924933  0.55227882 0.55049151 0.57908847\n",
            "        nan        nan        nan        nan        nan        nan\n",
            "        nan        nan        nan        nan        nan        nan\n",
            "        nan        nan        nan        nan        nan        nan\n",
            " 0.62645219 0.63538874 0.63628239 0.60589812 0.61572833 0.61751564\n",
            " 0.58176944 0.5746202  0.57998213        nan        nan        nan\n",
            "        nan        nan        nan        nan        nan        nan\n",
            "        nan        nan        nan        nan        nan        nan\n",
            "        nan        nan        nan 0.63538874 0.63181412 0.6201966\n",
            " 0.60947274 0.63092046 0.62466488 0.56121537 0.57819482 0.57908847\n",
            "        nan        nan        nan        nan        nan        nan\n",
            "        nan        nan        nan]\n",
            "  category=UserWarning,\n"
          ]
        },
        {
          "name": "stdout",
          "output_type": "stream",
          "text": [
            "CPU times: user 15min 29s, sys: 2.19 s, total: 15min 31s\n",
            "Wall time: 15min 32s\n"
          ]
        },
        {
          "data": {
            "text/plain": [
              "GridSearchCV(cv=3, estimator=GradientBoostingClassifier(),\n",
              "             param_grid={'learning_rate': [0.001, 0.01, 0.1],\n",
              "                         'loss': ['log_loss', 'deviance', 'exponential'],\n",
              "                         'max_depth': [5, 10, 50],\n",
              "                         'n_estimators': [100, 200, 500]})"
            ]
          },
          "execution_count": 26,
          "metadata": {},
          "output_type": "execute_result"
        }
      ],
      "source": [
        "%%time\n",
        "gb_sklearn = GridSearchCV(GradientBoostingClassifier(), params, cv=3)\n",
        "gb_sklearn.fit(X_train, y_train)"
      ]
    },
    {
      "cell_type": "code",
      "execution_count": null,
      "metadata": {
        "colab": {
          "base_uri": "https://localhost:8080/"
        },
        "id": "H_V0t8C46WQP",
        "outputId": "784a980e-ca1c-4969-9d5a-5892b4cbfd60"
      },
      "outputs": [
        {
          "data": {
            "text/plain": [
              "0.6625"
            ]
          },
          "execution_count": 27,
          "metadata": {},
          "output_type": "execute_result"
        }
      ],
      "source": [
        "accuracy_score(y_test, gb_sklearn.predict(X_test))"
      ]
    },
    {
      "cell_type": "code",
      "execution_count": null,
      "metadata": {
        "colab": {
          "base_uri": "https://localhost:8080/"
        },
        "id": "ITDrmjFsIrEx",
        "outputId": "fd0145ff-83db-4fe7-b0b0-24d31ab4cc7c"
      },
      "outputs": [
        {
          "data": {
            "text/plain": [
              "{'learning_rate': 0.01,\n",
              " 'loss': 'deviance',\n",
              " 'max_depth': 5,\n",
              " 'n_estimators': 500}"
            ]
          },
          "execution_count": 28,
          "metadata": {},
          "output_type": "execute_result"
        }
      ],
      "source": [
        "gb_sklearn.best_params_"
      ]
    },
    {
      "cell_type": "code",
      "execution_count": null,
      "metadata": {
        "colab": {
          "base_uri": "https://localhost:8080/"
        },
        "id": "zfxMb8nM5gac",
        "outputId": "624e5f87-6b85-4d6e-8be9-39329c801d16"
      },
      "outputs": [
        {
          "name": "stdout",
          "output_type": "stream",
          "text": [
            "CPU times: user 6min 52s, sys: 5.34 s, total: 6min 57s\n",
            "Wall time: 6min 56s\n"
          ]
        },
        {
          "data": {
            "text/plain": [
              "GridSearchCV(cv=3, estimator=XGBClassifier(),\n",
              "             param_grid={'learning_rate': [0.001, 0.01, 0.1],\n",
              "                         'loss': ['log_loss', 'deviance', 'exponential'],\n",
              "                         'max_depth': [5, 10, 50],\n",
              "                         'n_estimators': [100, 200, 500]})"
            ]
          },
          "execution_count": 29,
          "metadata": {},
          "output_type": "execute_result"
        }
      ],
      "source": [
        "%%time\n",
        "gb_xgboost = GridSearchCV(XGBClassifier(), params, cv=3)\n",
        "gb_xgboost.fit(X_train, y_train)"
      ]
    },
    {
      "cell_type": "code",
      "execution_count": null,
      "metadata": {
        "colab": {
          "base_uri": "https://localhost:8080/"
        },
        "id": "fFPk4bG16YdJ",
        "outputId": "ca1f3ee5-2c9c-4624-fe21-807846fa6143"
      },
      "outputs": [
        {
          "data": {
            "text/plain": [
              "0.6666666666666666"
            ]
          },
          "execution_count": 30,
          "metadata": {},
          "output_type": "execute_result"
        }
      ],
      "source": [
        "accuracy_score(y_test, gb_xgboost.predict(X_test))"
      ]
    },
    {
      "cell_type": "code",
      "execution_count": null,
      "metadata": {
        "colab": {
          "base_uri": "https://localhost:8080/"
        },
        "id": "NCr_kbKkIx_2",
        "outputId": "1f435927-4a4e-4443-be73-ce5bd0cb96be"
      },
      "outputs": [
        {
          "data": {
            "text/plain": [
              "{'learning_rate': 0.1, 'loss': 'log_loss', 'max_depth': 5, 'n_estimators': 100}"
            ]
          },
          "execution_count": 31,
          "metadata": {},
          "output_type": "execute_result"
        }
      ],
      "source": [
        "gb_xgboost.best_params_"
      ]
    },
    {
      "cell_type": "markdown",
      "metadata": {
        "id": "hDMEgxjKINff"
      },
      "source": [
        "**Вывод:** градиентный бустинг библиотеки xgboost дает более высокое качество модели и имеет меньшеее время обучения в 2 раза в сравнении с градиентным бустингом библиотеки sklearn"
      ]
    },
    {
      "cell_type": "markdown",
      "metadata": {
        "id": "qTeVL8vQor0U"
      },
      "source": [
        "# 6.Обучите реализации градиентного бустинга с параметрами по умолчанию из библиотек lightgbm и catboost. Сравните значение метрики accuracy по cross_val_score по всем четырем реализациям."
      ]
    },
    {
      "cell_type": "code",
      "execution_count": null,
      "metadata": {
        "id": "4B7xiUBkor0U"
      },
      "outputs": [],
      "source": [
        "!pip install lightgbm"
      ]
    },
    {
      "cell_type": "code",
      "execution_count": null,
      "metadata": {
        "id": "-2RJ0MSCJ_ci"
      },
      "outputs": [],
      "source": [
        "!pip install catboost"
      ]
    },
    {
      "cell_type": "code",
      "execution_count": null,
      "metadata": {
        "id": "W0s6Sq78I6_x"
      },
      "outputs": [],
      "source": [
        "from lightgbm import LGBMClassifier\n",
        "from catboost import CatBoostClassifier"
      ]
    },
    {
      "cell_type": "code",
      "execution_count": null,
      "metadata": {
        "colab": {
          "base_uri": "https://localhost:8080/"
        },
        "id": "rKfWs5LPK9pL",
        "outputId": "edc834ea-6700-47df-f5a4-3edda337072c"
      },
      "outputs": [
        {
          "data": {
            "text/plain": [
              "0.5541026645768025"
            ]
          },
          "execution_count": 35,
          "metadata": {},
          "output_type": "execute_result"
        }
      ],
      "source": [
        "cross_val_score(LGBMClassifier(),\n",
        "                data.drop('quality', axis=1), \n",
        "                data['quality'],\n",
        "                scoring='accuracy').mean()"
      ]
    },
    {
      "cell_type": "code",
      "execution_count": null,
      "metadata": {
        "id": "o-7ud1ASMyNv"
      },
      "outputs": [],
      "source": [
        "cross_val_score(CatBoostClassifier(),\n",
        "                data.drop('quality', axis=1), \n",
        "                data['quality'],\n",
        "                scoring='accuracy').mean()"
      ]
    },
    {
      "cell_type": "markdown",
      "metadata": {
        "id": "WUa9KcgQNTyX"
      },
      "source": [
        "**Вывод:** Качество моделей с параметрами по умолчанию по accuracy:\n",
        "* GradientBoostingClassifier - 0.5584\n",
        "* XGBClassifier - 0.5690\n",
        "* LGBMClassifier - 0.5541\n",
        "* CatBoostClassifier - 0.5459\n",
        "\n"
      ]
    },
    {
      "cell_type": "markdown",
      "metadata": {
        "id": "VNXDLgSFor0V"
      },
      "source": [
        "# 7.Подберите оптимальные параметры для алгоритмов градиентного бустинга из библиотек lightgbm и catboost с теми же условиями. Выведите лучшие параметры алгоритмов.\n",
        "Сравните значение метрики accuracy и скорость по этим четырем реализациям."
      ]
    },
    {
      "cell_type": "code",
      "execution_count": null,
      "metadata": {
        "colab": {
          "base_uri": "https://localhost:8080/"
        },
        "id": "pnzn7yn7or0V",
        "outputId": "937b9599-12e7-4c4b-f5b7-31df1f3160c4"
      },
      "outputs": [
        {
          "name": "stdout",
          "output_type": "stream",
          "text": [
            "CPU times: user 3min 33s, sys: 11.4 s, total: 3min 44s\n",
            "Wall time: 3min 44s\n"
          ]
        },
        {
          "data": {
            "text/plain": [
              "GridSearchCV(cv=3, estimator=LGBMClassifier(),\n",
              "             param_grid={'learning_rate': [0.001, 0.01, 0.1],\n",
              "                         'loss': ['log_loss', 'deviance', 'exponential'],\n",
              "                         'max_depth': [5, 10, 50],\n",
              "                         'n_estimators': [100, 200, 500]})"
            ]
          },
          "execution_count": 37,
          "metadata": {},
          "output_type": "execute_result"
        }
      ],
      "source": [
        "%%time\n",
        "gb_lightgbm = GridSearchCV(LGBMClassifier(), params, cv=3)\n",
        "gb_lightgbm.fit(X_train, y_train)"
      ]
    },
    {
      "cell_type": "code",
      "execution_count": null,
      "metadata": {
        "colab": {
          "base_uri": "https://localhost:8080/"
        },
        "id": "7mwh43ucOlI1",
        "outputId": "29119491-9a61-43a9-9c9d-cb8348f5ca3a"
      },
      "outputs": [
        {
          "data": {
            "text/plain": [
              "0.68125"
            ]
          },
          "execution_count": 38,
          "metadata": {},
          "output_type": "execute_result"
        }
      ],
      "source": [
        "accuracy_score(y_test, gb_lightgbm.predict(X_test))"
      ]
    },
    {
      "cell_type": "code",
      "execution_count": null,
      "metadata": {
        "colab": {
          "base_uri": "https://localhost:8080/"
        },
        "id": "6uhzCK0-TJXY",
        "outputId": "6dc0d4a7-f578-4294-fd46-7e86e90201ea"
      },
      "outputs": [
        {
          "data": {
            "text/plain": [
              "{'learning_rate': 0.01,\n",
              " 'loss': 'log_loss',\n",
              " 'max_depth': 50,\n",
              " 'n_estimators': 500}"
            ]
          },
          "execution_count": 39,
          "metadata": {},
          "output_type": "execute_result"
        }
      ],
      "source": [
        "gb_lightgbm.best_params_"
      ]
    },
    {
      "cell_type": "code",
      "execution_count": null,
      "metadata": {
        "id": "XS27X4hPP8xy"
      },
      "outputs": [],
      "source": [
        "params_catboost = {'learning_rate': [0.001, 0.01, 0.1],\n",
        "          'n_estimators': [100, 200, 500],\n",
        "          'max_depth': [5, 10, 50]}"
      ]
    },
    {
      "cell_type": "code",
      "execution_count": null,
      "metadata": {
        "id": "TB_NRZ_3OpAY"
      },
      "outputs": [],
      "source": [
        "%%time\n",
        "gb_catboost = GridSearchCV(CatBoostClassifier(), params_catboost, cv=3)\n",
        "gb_catboost.fit(X_train, y_train)"
      ]
    },
    {
      "cell_type": "code",
      "execution_count": null,
      "metadata": {
        "colab": {
          "base_uri": "https://localhost:8080/"
        },
        "id": "bvdb19t1OpDi",
        "outputId": "c7317359-5f69-44c7-e826-bb2cc4029a4c"
      },
      "outputs": [
        {
          "data": {
            "text/plain": [
              "0.6583333333333333"
            ]
          },
          "execution_count": 42,
          "metadata": {},
          "output_type": "execute_result"
        }
      ],
      "source": [
        "accuracy_score(y_test, gb_catboost.predict(X_test))"
      ]
    },
    {
      "cell_type": "code",
      "execution_count": null,
      "metadata": {
        "colab": {
          "base_uri": "https://localhost:8080/"
        },
        "id": "b1RjUgodWhyE",
        "outputId": "5712186a-429c-469b-ddf2-7c112a3aecac"
      },
      "outputs": [
        {
          "data": {
            "text/plain": [
              "{'learning_rate': 0.1, 'max_depth': 10, 'n_estimators': 100}"
            ]
          },
          "execution_count": 43,
          "metadata": {},
          "output_type": "execute_result"
        }
      ],
      "source": [
        "gb_catboost.best_params_"
      ]
    },
    {
      "cell_type": "markdown",
      "metadata": {
        "id": "xpcWaQNtWfAg"
      },
      "source": [
        "**Вывод:**\n",
        "* лучшее качество модели по метрике accuracy (0.6791) показал алгоритм CatBoostClassifier с параметрами: максимальная глубина дерева 10, количество деревьев 200, скорость обучения 0.1\n",
        "* самый быстрый аогоритм LGBMClassifier\n",
        "\n"
      ]
    },
    {
      "cell_type": "markdown",
      "metadata": {
        "id": "QO-GzFHsor0V"
      },
      "source": [
        "# 8.Подберите оптимальные параметры алгоритма из библиотеки xgbost с помощью [hyperopt](https://github.com/hyperopt/hyperopt) . Параметры для оптимизации:\n",
        "\n",
        "оптимизируемый функционал\n",
        "\n",
        "скорость обучения\n",
        "\n",
        "количество деревьев\n",
        "\n",
        "глубина деревьев\n",
        "\n",
        "Сравните результат с поиском по сетке из sklearn. Выведите лучшие параметры алгоритма, найденные даным способом."
      ]
    },
    {
      "cell_type": "code",
      "execution_count": null,
      "metadata": {
        "id": "fwdBQKcghmmb"
      },
      "outputs": [],
      "source": [
        "!pip install hyperopt"
      ]
    },
    {
      "cell_type": "code",
      "execution_count": null,
      "metadata": {
        "id": "LXrOXC2vraKX"
      },
      "outputs": [],
      "source": [
        "from hyperopt import hp, fmin, tpe, Trials, STATUS_OK\n",
        "from functools import partial"
      ]
    },
    {
      "cell_type": "code",
      "execution_count": null,
      "metadata": {
        "id": "TPGwGxwJsPMv"
      },
      "outputs": [],
      "source": [
        "search_space = {'learning_rate': hp.choice('x_learning_rate', [0.001, 0.01, 0.1]),\n",
        "                'n_estimators': hp.choice('x_n_estimators', [100, 200, 500]),\n",
        "                'max_depth': hp.choice('x_max_depth', [5, 10, 50])\n",
        "                }"
      ]
    },
    {
      "cell_type": "code",
      "execution_count": null,
      "metadata": {
        "id": "6T5ICNgKsiYz"
      },
      "outputs": [],
      "source": [
        "def objective(params, X, y):\n",
        "\n",
        "    clf_xgboost = XGBClassifier(**params)\n",
        " \n",
        "    score = cross_val_score(estimator=clf_xgboost, X=X, y=y, \n",
        "                            scoring='accuracy', cv=3).mean()\n",
        "                            \n",
        "    # возвращаем результаты, которые записываются в Trials()\n",
        "    return   {'loss': -score.mean(), 'params': params, 'status': STATUS_OK}"
      ]
    },
    {
      "cell_type": "code",
      "execution_count": null,
      "metadata": {
        "colab": {
          "base_uri": "https://localhost:8080/"
        },
        "id": "BXY0w__kwhxl",
        "outputId": "eab80220-0782-41f8-a57a-01b1d7aa89da"
      },
      "outputs": [
        {
          "name": "stdout",
          "output_type": "stream",
          "text": [
            "100%|██████████| 40/40 [05:42<00:00,  8.57s/it, best loss: -0.5809881175734835]\n"
          ]
        }
      ],
      "source": [
        "trials = Trials()\n",
        "best = fmin(partial(objective, X=data.drop('quality', axis=1), y=data['quality']),\n",
        "            space=search_space, \n",
        "            algo=tpe.suggest, \n",
        "            max_evals=40,\n",
        "            trials=trials,\n",
        "            show_progressbar=True\n",
        "        )"
      ]
    },
    {
      "cell_type": "code",
      "execution_count": null,
      "metadata": {
        "colab": {
          "base_uri": "https://localhost:8080/",
          "height": 81
        },
        "id": "kNT4lWDgdJF3",
        "outputId": "f63bfe0b-5699-489a-bcac-c01a053faadb"
      },
      "outputs": [
        {
          "data": {
            "text/html": [
              "\n",
              "  <div id=\"df-4167121d-df57-4abf-950e-b4d48f26092a\">\n",
              "    <div class=\"colab-df-container\">\n",
              "      <div>\n",
              "<style scoped>\n",
              "    .dataframe tbody tr th:only-of-type {\n",
              "        vertical-align: middle;\n",
              "    }\n",
              "\n",
              "    .dataframe tbody tr th {\n",
              "        vertical-align: top;\n",
              "    }\n",
              "\n",
              "    .dataframe thead th {\n",
              "        text-align: right;\n",
              "    }\n",
              "</style>\n",
              "<table border=\"1\" class=\"dataframe\">\n",
              "  <thead>\n",
              "    <tr style=\"text-align: right;\">\n",
              "      <th></th>\n",
              "      <th>loss</th>\n",
              "      <th>learning_rate</th>\n",
              "      <th>max_depth</th>\n",
              "      <th>n_estimators</th>\n",
              "    </tr>\n",
              "  </thead>\n",
              "  <tbody>\n",
              "    <tr>\n",
              "      <th>38</th>\n",
              "      <td>-0.580988</td>\n",
              "      <td>0.01</td>\n",
              "      <td>5</td>\n",
              "      <td>100</td>\n",
              "    </tr>\n",
              "  </tbody>\n",
              "</table>\n",
              "</div>\n",
              "      <button class=\"colab-df-convert\" onclick=\"convertToInteractive('df-4167121d-df57-4abf-950e-b4d48f26092a')\"\n",
              "              title=\"Convert this dataframe to an interactive table.\"\n",
              "              style=\"display:none;\">\n",
              "        \n",
              "  <svg xmlns=\"http://www.w3.org/2000/svg\" height=\"24px\"viewBox=\"0 0 24 24\"\n",
              "       width=\"24px\">\n",
              "    <path d=\"M0 0h24v24H0V0z\" fill=\"none\"/>\n",
              "    <path d=\"M18.56 5.44l.94 2.06.94-2.06 2.06-.94-2.06-.94-.94-2.06-.94 2.06-2.06.94zm-11 1L8.5 8.5l.94-2.06 2.06-.94-2.06-.94L8.5 2.5l-.94 2.06-2.06.94zm10 10l.94 2.06.94-2.06 2.06-.94-2.06-.94-.94-2.06-.94 2.06-2.06.94z\"/><path d=\"M17.41 7.96l-1.37-1.37c-.4-.4-.92-.59-1.43-.59-.52 0-1.04.2-1.43.59L10.3 9.45l-7.72 7.72c-.78.78-.78 2.05 0 2.83L4 21.41c.39.39.9.59 1.41.59.51 0 1.02-.2 1.41-.59l7.78-7.78 2.81-2.81c.8-.78.8-2.07 0-2.86zM5.41 20L4 18.59l7.72-7.72 1.47 1.35L5.41 20z\"/>\n",
              "  </svg>\n",
              "      </button>\n",
              "      \n",
              "  <style>\n",
              "    .colab-df-container {\n",
              "      display:flex;\n",
              "      flex-wrap:wrap;\n",
              "      gap: 12px;\n",
              "    }\n",
              "\n",
              "    .colab-df-convert {\n",
              "      background-color: #E8F0FE;\n",
              "      border: none;\n",
              "      border-radius: 50%;\n",
              "      cursor: pointer;\n",
              "      display: none;\n",
              "      fill: #1967D2;\n",
              "      height: 32px;\n",
              "      padding: 0 0 0 0;\n",
              "      width: 32px;\n",
              "    }\n",
              "\n",
              "    .colab-df-convert:hover {\n",
              "      background-color: #E2EBFA;\n",
              "      box-shadow: 0px 1px 2px rgba(60, 64, 67, 0.3), 0px 1px 3px 1px rgba(60, 64, 67, 0.15);\n",
              "      fill: #174EA6;\n",
              "    }\n",
              "\n",
              "    [theme=dark] .colab-df-convert {\n",
              "      background-color: #3B4455;\n",
              "      fill: #D2E3FC;\n",
              "    }\n",
              "\n",
              "    [theme=dark] .colab-df-convert:hover {\n",
              "      background-color: #434B5C;\n",
              "      box-shadow: 0px 1px 3px 1px rgba(0, 0, 0, 0.15);\n",
              "      filter: drop-shadow(0px 1px 2px rgba(0, 0, 0, 0.3));\n",
              "      fill: #FFFFFF;\n",
              "    }\n",
              "  </style>\n",
              "\n",
              "      <script>\n",
              "        const buttonEl =\n",
              "          document.querySelector('#df-4167121d-df57-4abf-950e-b4d48f26092a button.colab-df-convert');\n",
              "        buttonEl.style.display =\n",
              "          google.colab.kernel.accessAllowed ? 'block' : 'none';\n",
              "\n",
              "        async function convertToInteractive(key) {\n",
              "          const element = document.querySelector('#df-4167121d-df57-4abf-950e-b4d48f26092a');\n",
              "          const dataTable =\n",
              "            await google.colab.kernel.invokeFunction('convertToInteractive',\n",
              "                                                     [key], {});\n",
              "          if (!dataTable) return;\n",
              "\n",
              "          const docLinkHtml = 'Like what you see? Visit the ' +\n",
              "            '<a target=\"_blank\" href=https://colab.research.google.com/notebooks/data_table.ipynb>data table notebook</a>'\n",
              "            + ' to learn more about interactive tables.';\n",
              "          element.innerHTML = '';\n",
              "          dataTable['output_type'] = 'display_data';\n",
              "          await google.colab.output.renderOutput(dataTable, element);\n",
              "          const docLink = document.createElement('div');\n",
              "          docLink.innerHTML = docLinkHtml;\n",
              "          element.appendChild(docLink);\n",
              "        }\n",
              "      </script>\n",
              "    </div>\n",
              "  </div>\n",
              "  "
            ],
            "text/plain": [
              "        loss  learning_rate  max_depth  n_estimators\n",
              "38 -0.580988           0.01          5           100"
            ]
          },
          "execution_count": 49,
          "metadata": {},
          "output_type": "execute_result"
        }
      ],
      "source": [
        "results = pd.DataFrame([{**x, **x['params']} for x in  trials.results])\n",
        "results.drop(labels=['status', 'params'], axis=1, inplace=True)\n",
        "results.sort_values(by=['loss'], ascending=False, inplace=True)\n",
        "results.tail(1) # лучший результат"
      ]
    },
    {
      "cell_type": "markdown",
      "metadata": {
        "id": "LHwC6jGdfdox"
      },
      "source": [
        "**Вывод:** перебор параметров с помощью библиотеки hyperopt прошел значительно быстрее. При этом получена модель сравнимого качества."
      ]
    },
    {
      "cell_type": "markdown",
      "metadata": {
        "id": "S3f7ZD-vor0W"
      },
      "source": [
        "# 9.Выведите качество по метрике accuracy стэкинга (StackingClassifier) 4-х алгоритмов с базовыми параметрами градиентного бустинга."
      ]
    },
    {
      "cell_type": "code",
      "execution_count": null,
      "metadata": {
        "id": "CJxoKn3Wi8dB"
      },
      "outputs": [],
      "source": [
        "from sklearn.ensemble import StackingClassifier"
      ]
    },
    {
      "cell_type": "code",
      "execution_count": null,
      "metadata": {
        "id": "Gf1vkX35igfQ"
      },
      "outputs": [],
      "source": [
        "pipe =  [('GradBoostClasr', GradientBoostingClassifier()),\n",
        "        ('LGBMClassifier', LGBMClassifier()),\n",
        "        ('XGBClassifier', XGBClassifier())]"
      ]
    },
    {
      "cell_type": "code",
      "execution_count": null,
      "metadata": {
        "id": "ahJBLRXFor0X"
      },
      "outputs": [],
      "source": [
        "clf_stak = StackingClassifier(estimators=pipe, final_estimator=CatBoostClassifier())"
      ]
    },
    {
      "cell_type": "code",
      "execution_count": null,
      "metadata": {
        "id": "acd3OBlJ8_Bt"
      },
      "outputs": [],
      "source": [
        "clf_stak.fit(X_train, y_train)"
      ]
    },
    {
      "cell_type": "code",
      "execution_count": null,
      "metadata": {
        "colab": {
          "base_uri": "https://localhost:8080/"
        },
        "id": "Au_9Aocj8_Ek",
        "outputId": "8dd6dbe1-c86e-4064-92cf-79342f90d13e"
      },
      "outputs": [
        {
          "name": "stderr",
          "output_type": "stream",
          "text": [
            "/usr/local/lib/python3.7/dist-packages/sklearn/preprocessing/_label.py:154: DataConversionWarning: A column-vector y was passed when a 1d array was expected. Please change the shape of y to (n_samples, ), for example using ravel().\n",
            "  y = column_or_1d(y, warn=True)\n"
          ]
        },
        {
          "data": {
            "text/plain": [
              "0.6583333333333333"
            ]
          },
          "execution_count": 75,
          "metadata": {},
          "output_type": "execute_result"
        }
      ],
      "source": [
        "accuracy_score(np.ravel(y_test, ), clf_stak.predict(X_test))"
      ]
    },
    {
      "cell_type": "markdown",
      "metadata": {
        "id": "6-Q2YUENor0X"
      },
      "source": [
        "# 10.Выведите качество по метрике accuracy стэкинга 4-х алгоритмов с оптимальными параметрами градиентного бустинга. Сравните результаты с предыдущим шагом и напишите какой вывод можно из этого сделать."
      ]
    },
    {
      "cell_type": "code",
      "execution_count": null,
      "metadata": {
        "id": "pQ8xROk8nCso"
      },
      "outputs": [],
      "source": [
        "pipe =  [('GradBoostClasr', GradientBoostingClassifier(learning_rate=0.01, \n",
        "                                                       max_depth=5,\n",
        "                                                       n_estimators=500)),\n",
        "        ('LGBMClassifier', LGBMClassifier(learning_rate=0.01, \n",
        "                                          max_depth=50, \n",
        "                                          n_estimators=500)),\n",
        "        ('XGBClassifier', XGBClassifier(learning_rate=0.1, \n",
        "                                        max_depth=5, \n",
        "                                        n_estimators=100))]"
      ]
    },
    {
      "cell_type": "code",
      "execution_count": null,
      "metadata": {
        "id": "YM6B6febnCsq"
      },
      "outputs": [],
      "source": [
        "clf_stak = StackingClassifier(estimators=pipe, \n",
        "                              final_estimator=CatBoostClassifier(\n",
        "                                  learning_rate=0.1, \n",
        "                                  max_depth=10, \n",
        "                                  n_estimators=100))"
      ]
    },
    {
      "cell_type": "code",
      "execution_count": null,
      "metadata": {
        "id": "juBysiNn7mLu"
      },
      "outputs": [],
      "source": [
        "clf_stak.fit(X_train, y_train)"
      ]
    },
    {
      "cell_type": "code",
      "execution_count": null,
      "metadata": {
        "colab": {
          "base_uri": "https://localhost:8080/"
        },
        "id": "9sCZxoZF8R-v",
        "outputId": "cc703494-b97a-40d8-a9f1-9279433207ee"
      },
      "outputs": [
        {
          "name": "stderr",
          "output_type": "stream",
          "text": [
            "/usr/local/lib/python3.7/dist-packages/sklearn/preprocessing/_label.py:154: DataConversionWarning: A column-vector y was passed when a 1d array was expected. Please change the shape of y to (n_samples, ), for example using ravel().\n",
            "  y = column_or_1d(y, warn=True)\n"
          ]
        },
        {
          "data": {
            "text/plain": [
              "0.6479166666666667"
            ]
          },
          "execution_count": 71,
          "metadata": {},
          "output_type": "execute_result"
        }
      ],
      "source": [
        "accuracy_score(np.ravel(y_test, ), clf_stak.predict(X_test))"
      ]
    },
    {
      "cell_type": "markdown",
      "metadata": {
        "id": "9uvTbJL19b-J"
      },
      "source": [
        "**Вывод:** стекинг с параметрами по умолчанию показывает лучшее качество по метрике accuracy"
      ]
    }
  ],
  "metadata": {
    "colab": {
      "provenance": []
    },
    "kernelspec": {
      "display_name": "Python 3 (ipykernel)",
      "language": "python",
      "name": "python3"
    },
    "language_info": {
      "codemirror_mode": {
        "name": "ipython",
        "version": 3
      },
      "file_extension": ".py",
      "mimetype": "text/x-python",
      "name": "python",
      "nbconvert_exporter": "python",
      "pygments_lexer": "ipython3",
      "version": "3.9.7"
    }
  },
  "nbformat": 4,
  "nbformat_minor": 0
}