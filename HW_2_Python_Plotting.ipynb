{
  "cells": [
    {
      "cell_type": "markdown",
      "source": [
        "## Задание\n",
        "* Проанализировать ранее загруженный DataFrame.\n",
        "* Построить графики используя matplotlib, seaborn."
      ],
      "metadata": {
        "id": "9-tweHPN6ogV"
      },
      "id": "9-tweHPN6ogV"
    },
    {
      "cell_type": "code",
      "execution_count": null,
      "id": "5b4604d3",
      "metadata": {
        "id": "5b4604d3"
      },
      "outputs": [],
      "source": [
        "import pandas as pd\n",
        "import numpy as np\n",
        "import matplotlib.pyplot as plt\n",
        "import seaborn as sns"
      ]
    },
    {
      "cell_type": "code",
      "execution_count": null,
      "id": "46cce1aa",
      "metadata": {
        "id": "46cce1aa"
      },
      "outputs": [],
      "source": [
        "# считываем данные из файла\n",
        "data = pd.read_pickle('output.pkl')"
      ]
    },
    {
      "cell_type": "code",
      "execution_count": null,
      "id": "1631a310",
      "metadata": {
        "scrolled": true,
        "id": "1631a310",
        "outputId": "d7fa47d8-1af1-4478-d329-e83448a991e1"
      },
      "outputs": [
        {
          "data": {
            "text/plain": [
              "id                                                                                       13399\n",
              "pdId                                                                                     28141\n",
              "region                                                                                      72\n",
              "address                                                        г Тюмень, ул Профсоюзная, д. 56\n",
              "objElemLivingCnt                                                                             0\n",
              "objReady100PercDt                                                                   2024-12-31\n",
              "wallMaterialShortDesc                                                                   Другое\n",
              "objLkFinishTypeDesc                                                                Без отделки\n",
              "objLkFreePlanDesc                                                                          Нет\n",
              "objElemParkingCnt                                                                          125\n",
              "objSquareLiving                                                                            0.0\n",
              "rpdNum                                                                               72-000097\n",
              "rpdPdfLink                                   https://xn--80az8a.xn--d1aqf.xn--p1ai/api/ext/...\n",
              "rpdIssueDttm                                                                  04-08-2022 14:33\n",
              "objLkLatitude                                                                          57.1519\n",
              "objLkLongitude                                                                         65.5544\n",
              "objCompensFundFlg                                                                            0\n",
              "objProblemFlg                                                                                0\n",
              "objLkClassDesc                                                                         Элитный\n",
              "loadDttm                                                                      14-08-2022 01:22\n",
              "photoRenderDTO                               [{'objId': 13399, 'pdId': 28141, 'rpdId': 6221...\n",
              "objGuarantyEscrowFlg                                                                         0\n",
              "objectType                                                                              normal\n",
              "residentialBuildings                                                                         0\n",
              "newBuildingId                                                                            34754\n",
              "objFlatCnt                                                                                   0\n",
              "objFlatSq                                                                                  0.0\n",
              "objNonlivElemCnt                                                                             0\n",
              "objStatus                                                                                    0\n",
              "isAvailableWantLiveHere                                                                   True\n",
              "objInfrstrBicycleLaneFlg                                                                     0\n",
              "objInfrstrRampFlg                                                                            1\n",
              "objInfrstrCurbLoweringFlg                                                                    1\n",
              "objectTransportInfo                                                                         []\n",
              "conclusion                                                                               False\n",
              "objGreenHouseFlg                                                                             0\n",
              "objEnergyEffShortDesc                                                                        B\n",
              "infrastructureIndexValue                                                                    10\n",
              "developer.devId                                                                            306\n",
              "developer.devShortCleanNm                                                           2МЕН ГРУПП\n",
              "developer.devShortNm                                                                2МЕН ГРУПП\n",
              "developer.devFullCleanNm                                                            2МЕН ГРУПП\n",
              "developer.problObjCnt                                                                        0\n",
              "developer.buildObjCnt                                                                        5\n",
              "developer.comissObjCnt                                                                       0\n",
              "developer.regRegionDesc                                                      Тюменская область\n",
              "developer.devPhoneNum                                                         +7(345)279-18-88\n",
              "developer.devSite                                                                 2mengroup.ru\n",
              "developer.devEmail                                                           info@2mengroup.ru\n",
              "developer.devInn                                                                    7701651356\n",
              "developer.devOgrn                                                                1067746424899\n",
              "developer.devKpp                                                                     720301001\n",
              "developer.devLegalAddr                       Тюменская область, город Тюмень, улица Комсомо...\n",
              "developer.devFactAddr                        Тюменская область, город Тюмень, улица Комсомо...\n",
              "developer.lastRpdId                                                                     622118\n",
              "developer.fundGuarantyFlg                                                                    1\n",
              "developer.devOrgRegRegionCd                                                               72.0\n",
              "developer.devEmplMainFullNm                                          Киселев Сергей Михайлович\n",
              "developer.orgForm.id                                                                         1\n",
              "developer.orgForm.fullForm                                                Акционерное общество\n",
              "developer.orgForm.shortForm                                                                 АО\n",
              "developer.objGuarantyEscrowFlg                                                               0\n",
              "developer.govFundFlg                                                                         0\n",
              "objLkSaleDepEmail                                                            info@2mengroup.ru\n",
              "floorMin                                                                                   1.0\n",
              "floorMax                                                                                   1.0\n",
              "miniUrl                                      https://xn--80az8a.xn--d1aqf.xn--p1ai/api/ext/...\n",
              "objFloorCnt                                                                                1.0\n",
              "objTransferPlanDt                                                             28-02-2025 12:00\n",
              "objLivCeilingHeight                                                                        NaN\n",
              "objInfrstrPlaygrndCnt                                                                      0.0\n",
              "objInfrstrSportGroundCnt                                                                   0.0\n",
              "objInfrstrTrashAreaCnt                                                                     1.0\n",
              "objInfrstrObjPrkngCnt                                                                      0.0\n",
              "objInfrstrNotObjPrkngCnt                                                                   0.0\n",
              "objElevatorWheelchairCnt                                                                   0.0\n",
              "objElevatorPassengerCnt                                                                    8.0\n",
              "objElevatorCargoCnt                                                                        7.0\n",
              "soldOutPerc                                                                           0.917243\n",
              "objPriceAvg                                                                            50768.0\n",
              "generalContractorNm                               ООО Транспромжилстрой-2005 (ИНН: 7204097730)\n",
              "nonlivFirstFloor                                                                           1.0\n",
              "developer.developerGroupName                                            2МЕН ГРУПП ДЕВЕЛОПМЕНТ\n",
              "developer.companyGroupId                                                                5776.0\n",
              "quartography.objLivElem1KCnt                                                               NaN\n",
              "quartography.objLivElem2KCnt                                                               NaN\n",
              "quartography.objLivElem3KCnt                                                               NaN\n",
              "quartography.objLivElem4KCnt                                                               NaN\n",
              "quartography.objLivElemCnt                                                                 NaN\n",
              "quartography.objLivElemEntrCnt                                                             NaN\n",
              "quartography.objLivElemEntrFloorAvg                                                        NaN\n",
              "transportDistIndex                                                                         NaN\n",
              "transportDistIndexValue                                                                    NaN\n",
              "nameObj                                                                                    NaN\n",
              "greenAreaIndexValue                                                                        NaN\n",
              "airQualityIndexValue                                                                       NaN\n",
              "complexShortNm                                                                             NaN\n",
              "developer.bankruptStage.bankruptStageCd                                                    NaN\n",
              "developer.bankruptStage.bankruptStageDesc                                                  NaN\n",
              "developer.bankruptStage.bankruptLawUrl                                                     NaN\n",
              "developer.orgBankruptMsgDttm                                                               NaN\n",
              "metro.id                                                                                   NaN\n",
              "metro.name                                                                                 NaN\n",
              "metro.line                                                                                 NaN\n",
              "metro.color                                                                                NaN\n",
              "metro.time                                                                                 NaN\n",
              "metro.isWalk                                                                               NaN\n",
              "metro.colors                                                                               NaN\n",
              "Name: 4, dtype: object"
            ]
          },
          "execution_count": 4,
          "metadata": {},
          "output_type": "execute_result"
        }
      ],
      "source": [
        "# отбираем столбцы для задания\n",
        "pd.options.display.max_rows = 108\n",
        "data.iloc[4]"
      ]
    },
    {
      "cell_type": "code",
      "execution_count": null,
      "id": "36356aa8",
      "metadata": {
        "id": "36356aa8",
        "outputId": "70a0156d-830c-4f1f-fe75-f195cab78fa7"
      },
      "outputs": [
        {
          "data": {
            "text/html": [
              "<div>\n",
              "<style scoped>\n",
              "    .dataframe tbody tr th:only-of-type {\n",
              "        vertical-align: middle;\n",
              "    }\n",
              "\n",
              "    .dataframe tbody tr th {\n",
              "        vertical-align: top;\n",
              "    }\n",
              "\n",
              "    .dataframe thead th {\n",
              "        text-align: right;\n",
              "    }\n",
              "</style>\n",
              "<table border=\"1\" class=\"dataframe\">\n",
              "  <thead>\n",
              "    <tr style=\"text-align: right;\">\n",
              "      <th></th>\n",
              "      <th>id</th>\n",
              "      <th>region</th>\n",
              "      <th>commissioning_date</th>\n",
              "      <th>floor_count</th>\n",
              "      <th>flat_count</th>\n",
              "      <th>flat_square</th>\n",
              "      <th>parking_count</th>\n",
              "      <th>one_meter_price</th>\n",
              "    </tr>\n",
              "  </thead>\n",
              "  <tbody>\n",
              "    <tr>\n",
              "      <th>0</th>\n",
              "      <td>29679</td>\n",
              "      <td>61</td>\n",
              "      <td>2020-03-31</td>\n",
              "      <td>NaN</td>\n",
              "      <td>18</td>\n",
              "      <td>1519.0</td>\n",
              "      <td>0</td>\n",
              "      <td>NaN</td>\n",
              "    </tr>\n",
              "    <tr>\n",
              "      <th>1</th>\n",
              "      <td>29678</td>\n",
              "      <td>61</td>\n",
              "      <td>2020-03-31</td>\n",
              "      <td>NaN</td>\n",
              "      <td>27</td>\n",
              "      <td>1519.0</td>\n",
              "      <td>0</td>\n",
              "      <td>NaN</td>\n",
              "    </tr>\n",
              "  </tbody>\n",
              "</table>\n",
              "</div>"
            ],
            "text/plain": [
              "      id  region commissioning_date  floor_count  flat_count flat_square  \\\n",
              "0  29679      61         2020-03-31          NaN          18      1519.0   \n",
              "1  29678      61         2020-03-31          NaN          27      1519.0   \n",
              "\n",
              "   parking_count  one_meter_price  \n",
              "0              0              NaN  \n",
              "1              0              NaN  "
            ]
          },
          "execution_count": 5,
          "metadata": {},
          "output_type": "execute_result"
        }
      ],
      "source": [
        "# создаем рабочий дата фрейм\n",
        "columns = ['id', 'region', 'objReady100PercDt', 'objFloorCnt', 'objElemLivingCnt',\n",
        " 'objFlatSq', 'objElemParkingCnt', 'objPriceAvg']\n",
        "\n",
        "new_name_columns = ['id', 'region', 'commissioning_date', 'floor_count', 'flat_count',\n",
        "                   'flat_square', 'parking_count', 'one_meter_price']\n",
        "\n",
        "work_df = data[columns].rename(columns=dict(zip(columns, new_name_columns)))\n",
        "work_df.head(2)"
      ]
    },
    {
      "cell_type": "code",
      "execution_count": null,
      "id": "e55d1be4",
      "metadata": {
        "id": "e55d1be4",
        "outputId": "599083af-d8af-426c-e5cb-9bcbe14074d7"
      },
      "outputs": [
        {
          "name": "stdout",
          "output_type": "stream",
          "text": [
            "<class 'pandas.core.frame.DataFrame'>\n",
            "RangeIndex: 10528 entries, 0 to 10527\n",
            "Data columns (total 8 columns):\n",
            " #   Column              Non-Null Count  Dtype  \n",
            "---  ------              --------------  -----  \n",
            " 0   id                  10528 non-null  int64  \n",
            " 1   region              10528 non-null  int64  \n",
            " 2   commissioning_date  10528 non-null  object \n",
            " 3   floor_count         10526 non-null  float64\n",
            " 4   flat_count          10528 non-null  int64  \n",
            " 5   flat_square         10528 non-null  object \n",
            " 6   parking_count       10528 non-null  int64  \n",
            " 7   one_meter_price     7634 non-null   float64\n",
            "dtypes: float64(2), int64(4), object(2)\n",
            "memory usage: 658.1+ KB\n"
          ]
        }
      ],
      "source": [
        "# тип столбцов и количество пропущенных значений\n",
        "work_df.info()"
      ]
    },
    {
      "cell_type": "code",
      "execution_count": null,
      "id": "25d0910f",
      "metadata": {
        "id": "25d0910f"
      },
      "outputs": [],
      "source": [
        "# корректровка типа столбцов\n",
        "work_df.commissioning_date = pd.to_datetime(work_df.commissioning_date)\n",
        "work_df = work_df.astype({'flat_square': float})"
      ]
    },
    {
      "cell_type": "code",
      "execution_count": null,
      "id": "3ec19801",
      "metadata": {
        "id": "3ec19801",
        "outputId": "fcb04cc3-711f-4277-e82f-15026b856043"
      },
      "outputs": [
        {
          "data": {
            "text/plain": [
              "id                             int64\n",
              "region                         int64\n",
              "commissioning_date    datetime64[ns]\n",
              "floor_count                  float64\n",
              "flat_count                     int64\n",
              "flat_square                  float64\n",
              "parking_count                  int64\n",
              "one_meter_price              float64\n",
              "dtype: object"
            ]
          },
          "execution_count": 8,
          "metadata": {},
          "output_type": "execute_result"
        }
      ],
      "source": [
        "work_df.dtypes"
      ]
    },
    {
      "cell_type": "code",
      "execution_count": null,
      "id": "383468d5",
      "metadata": {
        "id": "383468d5"
      },
      "outputs": [],
      "source": [
        "# выделяем год ввода в эксплуатацию\n",
        "work_df['com_year'] = work_df['commissioning_date'].dt.year"
      ]
    },
    {
      "cell_type": "code",
      "execution_count": null,
      "id": "285566a1",
      "metadata": {
        "id": "285566a1",
        "outputId": "d9fde77e-b305-476b-ac8d-1c795deafc16"
      },
      "outputs": [
        {
          "data": {
            "text/plain": [
              "id                       0\n",
              "region                   0\n",
              "commissioning_date       0\n",
              "floor_count              2\n",
              "flat_count               0\n",
              "flat_square              0\n",
              "parking_count            0\n",
              "one_meter_price       2894\n",
              "com_year                 0\n",
              "dtype: int64"
            ]
          },
          "execution_count": 10,
          "metadata": {},
          "output_type": "execute_result"
        }
      ],
      "source": [
        "work_df.isnull().sum(axis = 0)"
      ]
    },
    {
      "cell_type": "code",
      "execution_count": null,
      "id": "a68599f7",
      "metadata": {
        "id": "a68599f7"
      },
      "outputs": [],
      "source": [
        "# группируем по регионам и находим среднюю цену \n",
        "gr_reg_df = work_df.groupby(by='region', as_index=False).one_meter_price.mean().round()"
      ]
    },
    {
      "cell_type": "code",
      "execution_count": null,
      "id": "588d25a1",
      "metadata": {
        "id": "588d25a1",
        "outputId": "0ec71f53-8ce6-4fdc-e4e6-e23ae959bc53"
      },
      "outputs": [
        {
          "data": {
            "text/html": [
              "<div>\n",
              "<style scoped>\n",
              "    .dataframe tbody tr th:only-of-type {\n",
              "        vertical-align: middle;\n",
              "    }\n",
              "\n",
              "    .dataframe tbody tr th {\n",
              "        vertical-align: top;\n",
              "    }\n",
              "\n",
              "    .dataframe thead th {\n",
              "        text-align: right;\n",
              "    }\n",
              "</style>\n",
              "<table border=\"1\" class=\"dataframe\">\n",
              "  <thead>\n",
              "    <tr style=\"text-align: right;\">\n",
              "      <th></th>\n",
              "      <th>one_meter_price</th>\n",
              "      <th>median</th>\n",
              "    </tr>\n",
              "    <tr>\n",
              "      <th>region</th>\n",
              "      <th></th>\n",
              "      <th></th>\n",
              "    </tr>\n",
              "  </thead>\n",
              "  <tbody>\n",
              "    <tr>\n",
              "      <th>1</th>\n",
              "      <td>62361.0</td>\n",
              "      <td>70175.0</td>\n",
              "    </tr>\n",
              "    <tr>\n",
              "      <th>2</th>\n",
              "      <td>75723.0</td>\n",
              "      <td>70175.0</td>\n",
              "    </tr>\n",
              "  </tbody>\n",
              "</table>\n",
              "</div>"
            ],
            "text/plain": [
              "        one_meter_price   median\n",
              "region                          \n",
              "1               62361.0  70175.0\n",
              "2               75723.0  70175.0"
            ]
          },
          "execution_count": 12,
          "metadata": {},
          "output_type": "execute_result"
        }
      ],
      "source": [
        "# расчитываем медианную цену\n",
        "gr_reg_df['median'] = gr_reg_df.one_meter_price.median()\n",
        "gr_reg_df.set_index('region').head(2)"
      ]
    },
    {
      "cell_type": "code",
      "execution_count": null,
      "id": "aef573db",
      "metadata": {
        "id": "aef573db",
        "outputId": "9533363f-d343-49b0-9c93-1fa64369fc3b"
      },
      "outputs": [
        {
          "data": {
            "image/png": "[encoded data removed]",
            "text/plain": [
              "<Figure size 1224x360 with 1 Axes>"
            ]
          },
          "metadata": {
            "needs_background": "light"
          },
          "output_type": "display_data"
        }
      ],
      "source": [
        "# диаграмма в pandas\n",
        "gr_reg_df.plot(x='region', y=['one_meter_price'], kind='bar', figsize=(17,5))\n",
        "plt.show()"
      ]
    },
    {
      "cell_type": "code",
      "execution_count": null,
      "id": "fb9dc593",
      "metadata": {
        "id": "fb9dc593",
        "outputId": "35e5667c-1b70-406f-ba95-8f134402e90c"
      },
      "outputs": [
        {
          "data": {
            "image/png": "[encoded data removed]",
            "text/plain": [
              "<Figure size 1224x360 with 1 Axes>"
            ]
          },
          "metadata": {
            "needs_background": "light"
          },
          "output_type": "display_data"
        }
      ],
      "source": [
        "# диаграмма в matplotlib\n",
        "plt.figure(figsize=(17,5))\n",
        "plt.bar(gr_reg_df.region.astype('str'), gr_reg_df.one_meter_price, width=0.6)\n",
        "plt.plot(gr_reg_df['region'], gr_reg_df['median'], color='red', label='Медиана')\n",
        "plt.xticks(rotation=90)\n",
        "plt.xlim(['1', \"92\"])\n",
        "plt.title('Средняя цена за 1 м2 по регионам', fontsize=16, loc='left')\n",
        "plt.xlabel('Номер региона')\n",
        "plt.ylabel('Цена за 1м2, руб.')\n",
        "plt.legend(loc='upper left')\n",
        "plt.show()"
      ]
    },
    {
      "cell_type": "markdown",
      "id": "c30f419d",
      "metadata": {
        "id": "c30f419d"
      },
      "source": [
        "Вывод: \n",
        "-  самое дорогое жилье в Москве - 309 тыс.руб за 1м2\n",
        "-  жилье в Санкт-Петербурге почти в 2 раза дешевле - 166 тыс.руб за 1м2\n",
        "-  самое дешовое жилье в Мурманской области - 20 тыс.руб за 1м2\n",
        "-  медианная цена жилья по России - 70 тыс.руб за 1м2"
      ]
    },
    {
      "cell_type": "code",
      "execution_count": null,
      "id": "c77f96ac",
      "metadata": {
        "id": "c77f96ac"
      },
      "outputs": [],
      "source": [
        "# заполняем пустые значения цены средними значениями по регионам\n",
        "mean_prices = dict(zip(gr_reg_df['region'], gr_reg_df['one_meter_price']))\n",
        "\n",
        "mask = work_df['one_meter_price'].astype('str').isin(['NaN','nan'])\n",
        "work_df.loc[mask, 'one_meter_price'] = work_df.loc[mask, 'region'].map(mean_prices)"
      ]
    },
    {
      "cell_type": "code",
      "execution_count": null,
      "id": "11a25334",
      "metadata": {
        "id": "11a25334",
        "outputId": "c354efc3-d6fc-4cb7-c819-bb8d07b97f46"
      },
      "outputs": [
        {
          "data": {
            "text/plain": [
              "id                    0\n",
              "region                0\n",
              "commissioning_date    0\n",
              "floor_count           2\n",
              "flat_count            0\n",
              "flat_square           0\n",
              "parking_count         0\n",
              "one_meter_price       5\n",
              "com_year              0\n",
              "dtype: int64"
            ]
          },
          "execution_count": 16,
          "metadata": {},
          "output_type": "execute_result"
        }
      ],
      "source": [
        "work_df.isnull().sum(axis=0)"
      ]
    },
    {
      "cell_type": "code",
      "execution_count": null,
      "id": "6c60fa61",
      "metadata": {
        "id": "6c60fa61"
      },
      "outputs": [],
      "source": [
        "# группируем по регионам и годам объемы строительтсва жилья\n",
        "group_region = work_df.groupby(['region'], as_index=False) \\\n",
        "    .aggregate({'id': 'count', 'flat_square': 'sum'}) \\\n",
        "    .rename(columns={'id': 'flat_count', 'flat_square': 'sum_flat_square'})\n",
        "\n",
        "group_year = work_df.groupby(['com_year'], as_index=False) \\\n",
        "    .aggregate({'id': 'count', 'flat_square': 'sum'}) \\\n",
        "    .rename(columns={'id': 'flat_count', 'flat_square': 'sum_flat_square'})"
      ]
    },
    {
      "cell_type": "code",
      "execution_count": null,
      "id": "3a2b96ba",
      "metadata": {
        "id": "3a2b96ba",
        "outputId": "cb0aef1a-8515-4034-816c-6ed5f67307bd"
      },
      "outputs": [
        {
          "data": {
            "image/png": "[encoded data removed]",
            "text/plain": [
              "<Figure size 432x288 with 1 Axes>"
            ]
          },
          "metadata": {
            "needs_background": "light"
          },
          "output_type": "display_data"
        }
      ],
      "source": [
        "# линейный график в seabon\n",
        "sns.lineplot(data=group_year, x='com_year', y='flat_count')\n",
        "sns. (data=group_year, x='com_year', y='flat_count')\n",
        "plt.title('Динамика ввода жилья')\n",
        "plt.xlabel('Год')\n",
        "plt.ylabel('Количество квартир')\n",
        "plt.show()"
      ]
    },
    {
      "cell_type": "markdown",
      "id": "c493bbdd",
      "metadata": {
        "id": "c493bbdd"
      },
      "source": [
        "Вывод: максимальное количество квартир будет сдано в 2023 году"
      ]
    },
    {
      "cell_type": "code",
      "execution_count": null,
      "id": "d3c5b82f",
      "metadata": {
        "id": "d3c5b82f",
        "outputId": "8f1c9eb2-e2f7-411a-bf0b-0aefcfbeb818"
      },
      "outputs": [
        {
          "data": {
            "image/png": "[encoded data removed]",
            "text/plain": [
              "<Figure size 1224x360 with 1 Axes>"
            ]
          },
          "metadata": {
            "needs_background": "light"
          },
          "output_type": "display_data"
        }
      ],
      "source": [
        "# диаграмма в matplotlib\n",
        "plt.figure(figsize=(17,5))\n",
        "plt.bar(group_region.region.astype('str'), group_region.sum_flat_square, width=0.6)\n",
        "plt.xticks(rotation=90)\n",
        "plt.xlim(['1', \"92\"])\n",
        "plt.title('Суммарная площадь строищихся квартир')\n",
        "plt.xlabel('Номер региона')\n",
        "plt.ylabel('Площадь, м2')\n",
        "plt.show()"
      ]
    },
    {
      "cell_type": "markdown",
      "id": "f7301174",
      "metadata": {
        "id": "f7301174"
      },
      "source": [
        "Вывод: лидерами по строительству жилья являются: Москва, Санкт_Петербург, Московская область, Краснодарский край"
      ]
    },
    {
      "cell_type": "code",
      "execution_count": null,
      "id": "d3e0d90f",
      "metadata": {
        "id": "d3e0d90f",
        "outputId": "741b6a6e-6a52-4046-ff9b-5814069d0690"
      },
      "outputs": [
        {
          "data": {
            "text/html": [
              "<div>\n",
              "<style scoped>\n",
              "    .dataframe tbody tr th:only-of-type {\n",
              "        vertical-align: middle;\n",
              "    }\n",
              "\n",
              "    .dataframe tbody tr th {\n",
              "        vertical-align: top;\n",
              "    }\n",
              "\n",
              "    .dataframe thead th {\n",
              "        text-align: right;\n",
              "    }\n",
              "</style>\n",
              "<table border=\"1\" class=\"dataframe\">\n",
              "  <thead>\n",
              "    <tr style=\"text-align: right;\">\n",
              "      <th></th>\n",
              "      <th>id</th>\n",
              "      <th>region</th>\n",
              "      <th>commissioning_date</th>\n",
              "      <th>floor_count</th>\n",
              "      <th>flat_count</th>\n",
              "      <th>flat_square</th>\n",
              "      <th>parking_count</th>\n",
              "      <th>one_meter_price</th>\n",
              "      <th>com_year</th>\n",
              "    </tr>\n",
              "  </thead>\n",
              "  <tbody>\n",
              "    <tr>\n",
              "      <th>10</th>\n",
              "      <td>27476</td>\n",
              "      <td>77</td>\n",
              "      <td>2022-09-30</td>\n",
              "      <td>15.0</td>\n",
              "      <td>99</td>\n",
              "      <td>5589.5</td>\n",
              "      <td>0</td>\n",
              "      <td>203870.0</td>\n",
              "      <td>2022</td>\n",
              "    </tr>\n",
              "    <tr>\n",
              "      <th>30</th>\n",
              "      <td>20524</td>\n",
              "      <td>77</td>\n",
              "      <td>2023-06-30</td>\n",
              "      <td>34.0</td>\n",
              "      <td>396</td>\n",
              "      <td>20225.0</td>\n",
              "      <td>0</td>\n",
              "      <td>207678.0</td>\n",
              "      <td>2023</td>\n",
              "    </tr>\n",
              "  </tbody>\n",
              "</table>\n",
              "</div>"
            ],
            "text/plain": [
              "       id  region commissioning_date  floor_count  flat_count  flat_square  \\\n",
              "10  27476      77         2022-09-30         15.0          99       5589.5   \n",
              "30  20524      77         2023-06-30         34.0         396      20225.0   \n",
              "\n",
              "    parking_count  one_meter_price  com_year  \n",
              "10              0         203870.0      2022  \n",
              "30              0         207678.0      2023  "
            ]
          },
          "execution_count": 20,
          "metadata": {},
          "output_type": "execute_result"
        }
      ],
      "source": [
        "# отбираем данные по москве и краснодарскому краю\n",
        "\n",
        "Mosсow = work_df[work_df.region == 77]\n",
        "Krasnodar_region = work_df[work_df.region == 23]\n",
        "Mosсow.head(2)"
      ]
    },
    {
      "cell_type": "code",
      "execution_count": null,
      "id": "ffad253f",
      "metadata": {
        "id": "ffad253f",
        "outputId": "d9e4978a-f9c2-42aa-a4f4-ab2fd67fc24d"
      },
      "outputs": [
        {
          "data": {
            "image/png": "[encoded data removed]",
            "text/plain": [
              "<Figure size 720x360 with 2 Axes>"
            ]
          },
          "metadata": {
            "needs_background": "light"
          },
          "output_type": "display_data"
        }
      ],
      "source": [
        "fig, ax = plt.subplots(nrows=1, ncols=2, sharey=True)\n",
        "ax1, ax2 = ax\n",
        "ax1.scatter(x=Mosсow.floor_count, y=Mosсow.flat_count)\n",
        "ax1.set_title('Москва', loc='left')\n",
        "ax1.set_xlabel('Кол-во этажей')\n",
        "ax1.set_ylabel('Кол-во квартир')\n",
        "ax2.scatter(x=Krasnodar_region.floor_count, y=Krasnodar_region.flat_count)\n",
        "ax2.set_title('Краснодарский край', loc='left')\n",
        "ax2.set_xlabel('Кол-во этажей')\n",
        "ax2.set_ylabel('Кол-во квартир')\n",
        "fig.set_size_inches(10,5)\n",
        "plt.subplots_adjust(wspace=0.2)\n",
        "plt.show()"
      ]
    },
    {
      "cell_type": "markdown",
      "id": "50eb4369",
      "metadata": {
        "id": "50eb4369"
      },
      "source": [
        "Вывод: линейной зависимости количества квартир от количества этажей не наблюдается"
      ]
    },
    {
      "cell_type": "code",
      "execution_count": null,
      "id": "4cfd6bec",
      "metadata": {
        "id": "4cfd6bec",
        "outputId": "10afaf59-65c7-4540-a433-d64adfac6493"
      },
      "outputs": [
        {
          "data": {
            "image/png": "[encoded data removed]",
            "text/plain": [
              "<Figure size 720x360 with 2 Axes>"
            ]
          },
          "metadata": {
            "needs_background": "light"
          },
          "output_type": "display_data"
        }
      ],
      "source": [
        "fig, ax = plt.subplots(nrows=1, ncols=2)\n",
        "ax1, ax2 = ax\n",
        "sns.violinplot(data=Mosсow, y='floor_count', ax=ax1)\n",
        "sns.violinplot(data=Mosсow, y='parking_count', ax=ax2)\n",
        "fig.set_size_inches(10,5)\n",
        "plt.subplots_adjust(wspace=0.4)\n",
        "plt.show()"
      ]
    },
    {
      "cell_type": "markdown",
      "id": "020ae201",
      "metadata": {
        "id": "020ae201"
      },
      "source": [
        "Вывод:\n",
        "-  в Москве наибольшее кол-во строяшихся зданий 20 этажные\n",
        "-  как правило, в Москве строящиеся дома не содержат парковочных мест"
      ]
    }
  ],
  "metadata": {
    "kernelspec": {
      "display_name": "Python 3 (ipykernel)",
      "language": "python",
      "name": "python3"
    },
    "language_info": {
      "codemirror_mode": {
        "name": "ipython",
        "version": 3
      },
      "file_extension": ".py",
      "mimetype": "text/x-python",
      "name": "python",
      "nbconvert_exporter": "python",
      "pygments_lexer": "ipython3",
      "version": "3.9.7"
    },
    "colab": {
      "provenance": []
    }
  },
  "nbformat": 4,
  "nbformat_minor": 5
}