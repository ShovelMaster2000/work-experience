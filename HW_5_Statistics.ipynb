{
  "nbformat": 4,
  "nbformat_minor": 0,
  "metadata": {
    "colab": {
      "provenance": [],
      "collapsed_sections": []
    },
    "kernelspec": {
      "name": "python3",
      "display_name": "Python 3"
    },
    "language_info": {
      "name": "python"
    }
  },
  "cells": [
    {
      "cell_type": "code",
      "execution_count": 2,
      "metadata": {
        "id": "QZ0BDx1TMbTd"
      },
      "outputs": [],
      "source": [
        "import pandas as pd\n",
        "import numpy as np\n",
        "import matplotlib.pyplot as plt\n",
        "import scipy.stats as sts\n",
        "import math\n",
        "%matplotlib inline"
      ]
    },
    {
      "cell_type": "markdown",
      "source": [
        "## ЦПТ для различных распределений"
      ],
      "metadata": {
        "id": "vdvYtx-hMnnz"
      }
    },
    {
      "cell_type": "markdown",
      "source": [
        "Сгенерируем примеры из распределения"
      ],
      "metadata": {
        "id": "aJz0IpTsM0wX"
      }
    },
    {
      "cell_type": "code",
      "source": [
        "cosine_rv = sts.cosine()\n",
        "sample = cosine_rv.rvs(100)\n",
        "sample"
      ],
      "metadata": {
        "id": "7z9psJ4iMkcP"
      },
      "execution_count": null,
      "outputs": []
    },
    {
      "cell_type": "code",
      "source": [
        "real_mean = cosine_rv.mean() # настоящее среднее случайной величины\n",
        "real_mean"
      ],
      "metadata": {
        "colab": {
          "base_uri": "https://localhost:8080/"
        },
        "id": "YN1U2oAPNfyc",
        "outputId": "37447eb8-a5ad-4535-dd5c-688ce5d368c2"
      },
      "execution_count": null,
      "outputs": [
        {
          "output_type": "execute_result",
          "data": {
            "text/plain": [
              "0.0"
            ]
          },
          "metadata": {},
          "execution_count": 4
        }
      ]
    },
    {
      "cell_type": "code",
      "source": [
        "real_var = cosine_rv.var() # настоящая дисперсия случайной величины\n",
        "real_var"
      ],
      "metadata": {
        "colab": {
          "base_uri": "https://localhost:8080/"
        },
        "id": "QFkpTlkONnCO",
        "outputId": "a5b475fd-be0e-48eb-a8b6-af97ea48f0a9"
      },
      "execution_count": null,
      "outputs": [
        {
          "output_type": "execute_result",
          "data": {
            "text/plain": [
              "1.2898681336964528"
            ]
          },
          "metadata": {},
          "execution_count": 5
        }
      ]
    },
    {
      "cell_type": "markdown",
      "source": [
        "Построим гистограмму выборки и теоретическую плотность распределения"
      ],
      "metadata": {
        "id": "wtyo41MgOgoi"
      }
    },
    {
      "cell_type": "code",
      "source": [
        "plt.hist(sample, density=True)\n",
        "x = np.linspace(-4,4,100)\n",
        "pdf = cosine_rv.pdf(x)\n",
        "plt.plot(x, pdf, label='теоретическая плотность', alpha=0.5)\n",
        "plt.legend(loc='lower left')\n",
        "plt.show()"
      ],
      "metadata": {
        "colab": {
          "base_uri": "https://localhost:8080/",
          "height": 265
        },
        "id": "VTqwiOP9OfTH",
        "outputId": "02e21e37-e3b0-4703-e4a0-72506dc0b95c"
      },
      "execution_count": null,
      "outputs": [
        {
          "output_type": "display_data",
          "data": {
            "text/plain": [
              "<Figure size 432x288 with 1 Axes>"
            ],
            "image/png": "[encoded data removed]"
          },
          "metadata": {
            "needs_background": "light"
          }
        }
      ]
    },
    {
      "cell_type": "code",
      "source": [
        "sample_mean = sample.mean() # выборочное среднее\n",
        "print(sample_mean)\n",
        "sample_var = sample.var() # выборочная дисперсия\n",
        "print(sample_var)"
      ],
      "metadata": {
        "colab": {
          "base_uri": "https://localhost:8080/"
        },
        "id": "pd7O4_u5PtaC",
        "outputId": "d20a28dd-a2e7-48af-d01d-597e11817030"
      },
      "execution_count": null,
      "outputs": [
        {
          "output_type": "stream",
          "name": "stdout",
          "text": [
            "-0.06257077462342683\n",
            "1.4132183335785613\n"
          ]
        }
      ]
    },
    {
      "cell_type": "markdown",
      "source": [
        "Оценим распределение выборочного среднего для разных объёмов выборок"
      ],
      "metadata": {
        "id": "x_PpEqZUQIYl"
      }
    },
    {
      "cell_type": "markdown",
      "source": [
        "Для этого построим на одном полотне гистограмму выборочных средних и теоретическое распределение выборочных средних по ЦПТ для разных объёмов выборок. Для теоретического распределение используем настоящие значения мат ожидания и дисперсии (не приближенные на основе выборки).\n"
      ],
      "metadata": {
        "id": "5gLP3Jy_QR62"
      }
    },
    {
      "cell_type": "code",
      "source": [
        "sample_size = [10, 50, 100, 500, 1000]\n",
        "sample_number = 1000\n",
        "fig, ax = plt.subplots(nrows=math.ceil(len(sample_size)/3), ncols=3)\n",
        "counter = 0\n",
        "for size in sample_size:\n",
        "  mean_values = []\n",
        "  for _ in range(sample_number):\n",
        "    mean_values.append(cosine_rv.rvs(size).mean())\n",
        "  norm = sts.norm(sample_mean, scale = sample.std()/np.sqrt(size))\n",
        "  pdf = norm.pdf(x)\n",
        "  \n",
        "  counter += 1\n",
        "  nrow = math.ceil(counter / 3) - 1\n",
        "  ncol = counter % 3 - 1 if (counter % 3) != 0 else 2\n",
        "  ax[nrow][ncol].hist(mean_values, density=True)\n",
        "  ax[nrow][ncol].plot(x, pdf, alpha=0.9)\n",
        "  ax[nrow][ncol].set_title('{} наблюдений'.format(size), loc='left')\n",
        "fig.set_size_inches(20,10)\n",
        "plt.show()"
      ],
      "metadata": {
        "colab": {
          "base_uri": "https://localhost:8080/",
          "height": 607
        },
        "id": "0LQmQvVcVLGa",
        "outputId": "311ef2bf-c163-4363-885f-a160e60567c8"
      },
      "execution_count": null,
      "outputs": [
        {
          "output_type": "display_data",
          "data": {
            "text/plain": [
              "<Figure size 1440x720 with 6 Axes>"
            ],
            "image/png": "[encoded data removed]"
          },
          "metadata": {
            "needs_background": "light"
          }
        }
      ]
    },
    {
      "cell_type": "markdown",
      "source": [
        "**Вывод**: с увеличением размера выборки выборочное среднее стремится к значению среднего исходного распределения. Апроксимация работает хорошо."
      ],
      "metadata": {
        "id": "tSLLLHhprfcx"
      }
    },
    {
      "cell_type": "markdown",
      "source": [
        "# Доверительный интервал на основе ЦПТ"
      ],
      "metadata": {
        "id": "n2YRTY--s89a"
      }
    },
    {
      "cell_type": "markdown",
      "source": [
        "**Задание:** Возьмем данные для оттока телеком компании, и построим доверительные интервалы для среднего значения total day calls, используя центральную предельную теорему в разбиении по колонке churn (ушел/не ушел). Для оценки дисперсии используем несмещенную оценку (параметр ddof=1). Сделаем оценку с использованием явной формулы для z интервала, а затем с помощью функций from statsmodels.stats.weightstats import _zconfint_generic. Сравним результаты."
      ],
      "metadata": {
        "id": "4-1q_4DUDq7n"
      }
    },
    {
      "cell_type": "code",
      "source": [
        "url =\"https://raw.githubusercontent.com/piton1/DS/Lesson_5/telecom_churn.csv\"\n",
        "df=pd.read_csv(url)\n",
        "df.head(5)"
      ],
      "metadata": {
        "colab": {
          "base_uri": "https://localhost:8080/",
          "height": 314
        },
        "id": "8smYoobHDykq",
        "outputId": "f3152414-0eb2-4429-c96c-f85d462da2e8"
      },
      "execution_count": 34,
      "outputs": [
        {
          "output_type": "execute_result",
          "data": {
            "text/plain": [
              "  state  account length  area code phone number international plan  \\\n",
              "0    KS             128        415     382-4657                 no   \n",
              "1    OH             107        415     371-7191                 no   \n",
              "2    NJ             137        415     358-1921                 no   \n",
              "3    OH              84        408     375-9999                yes   \n",
              "4    OK              75        415     330-6626                yes   \n",
              "\n",
              "  voice mail plan  number vmail messages  total day minutes  total day calls  \\\n",
              "0             yes                     25              265.1              110   \n",
              "1             yes                     26              161.6              123   \n",
              "2              no                      0              243.4              114   \n",
              "3              no                      0              299.4               71   \n",
              "4              no                      0              166.7              113   \n",
              "\n",
              "   total day charge  ...  total eve calls  total eve charge  \\\n",
              "0             45.07  ...               99             16.78   \n",
              "1             27.47  ...              103             16.62   \n",
              "2             41.38  ...              110             10.30   \n",
              "3             50.90  ...               88              5.26   \n",
              "4             28.34  ...              122             12.61   \n",
              "\n",
              "   total night minutes  total night calls  total night charge  \\\n",
              "0                244.7                 91               11.01   \n",
              "1                254.4                103               11.45   \n",
              "2                162.6                104                7.32   \n",
              "3                196.9                 89                8.86   \n",
              "4                186.9                121                8.41   \n",
              "\n",
              "   total intl minutes  total intl calls  total intl charge  \\\n",
              "0                10.0                 3               2.70   \n",
              "1                13.7                 3               3.70   \n",
              "2                12.2                 5               3.29   \n",
              "3                 6.6                 7               1.78   \n",
              "4                10.1                 3               2.73   \n",
              "\n",
              "   customer service calls  churn  \n",
              "0                       1  False  \n",
              "1                       1  False  \n",
              "2                       0  False  \n",
              "3                       2  False  \n",
              "4                       3  False  \n",
              "\n",
              "[5 rows x 21 columns]"
            ],
            "text/html": [
              "\n",
              "  <div id=\"df-4a8db1fc-e31a-4285-aa98-d69def62b7d9\">\n",
              "    <div class=\"colab-df-container\">\n",
              "      <div>\n",
              "<style scoped>\n",
              "    .dataframe tbody tr th:only-of-type {\n",
              "        vertical-align: middle;\n",
              "    }\n",
              "\n",
              "    .dataframe tbody tr th {\n",
              "        vertical-align: top;\n",
              "    }\n",
              "\n",
              "    .dataframe thead th {\n",
              "        text-align: right;\n",
              "    }\n",
              "</style>\n",
              "<table border=\"1\" class=\"dataframe\">\n",
              "  <thead>\n",
              "    <tr style=\"text-align: right;\">\n",
              "      <th></th>\n",
              "      <th>state</th>\n",
              "      <th>account length</th>\n",
              "      <th>area code</th>\n",
              "      <th>phone number</th>\n",
              "      <th>international plan</th>\n",
              "      <th>voice mail plan</th>\n",
              "      <th>number vmail messages</th>\n",
              "      <th>total day minutes</th>\n",
              "      <th>total day calls</th>\n",
              "      <th>total day charge</th>\n",
              "      <th>...</th>\n",
              "      <th>total eve calls</th>\n",
              "      <th>total eve charge</th>\n",
              "      <th>total night minutes</th>\n",
              "      <th>total night calls</th>\n",
              "      <th>total night charge</th>\n",
              "      <th>total intl minutes</th>\n",
              "      <th>total intl calls</th>\n",
              "      <th>total intl charge</th>\n",
              "      <th>customer service calls</th>\n",
              "      <th>churn</th>\n",
              "    </tr>\n",
              "  </thead>\n",
              "  <tbody>\n",
              "    <tr>\n",
              "      <th>0</th>\n",
              "      <td>KS</td>\n",
              "      <td>128</td>\n",
              "      <td>415</td>\n",
              "      <td>382-4657</td>\n",
              "      <td>no</td>\n",
              "      <td>yes</td>\n",
              "      <td>25</td>\n",
              "      <td>265.1</td>\n",
              "      <td>110</td>\n",
              "      <td>45.07</td>\n",
              "      <td>...</td>\n",
              "      <td>99</td>\n",
              "      <td>16.78</td>\n",
              "      <td>244.7</td>\n",
              "      <td>91</td>\n",
              "      <td>11.01</td>\n",
              "      <td>10.0</td>\n",
              "      <td>3</td>\n",
              "      <td>2.70</td>\n",
              "      <td>1</td>\n",
              "      <td>False</td>\n",
              "    </tr>\n",
              "    <tr>\n",
              "      <th>1</th>\n",
              "      <td>OH</td>\n",
              "      <td>107</td>\n",
              "      <td>415</td>\n",
              "      <td>371-7191</td>\n",
              "      <td>no</td>\n",
              "      <td>yes</td>\n",
              "      <td>26</td>\n",
              "      <td>161.6</td>\n",
              "      <td>123</td>\n",
              "      <td>27.47</td>\n",
              "      <td>...</td>\n",
              "      <td>103</td>\n",
              "      <td>16.62</td>\n",
              "      <td>254.4</td>\n",
              "      <td>103</td>\n",
              "      <td>11.45</td>\n",
              "      <td>13.7</td>\n",
              "      <td>3</td>\n",
              "      <td>3.70</td>\n",
              "      <td>1</td>\n",
              "      <td>False</td>\n",
              "    </tr>\n",
              "    <tr>\n",
              "      <th>2</th>\n",
              "      <td>NJ</td>\n",
              "      <td>137</td>\n",
              "      <td>415</td>\n",
              "      <td>358-1921</td>\n",
              "      <td>no</td>\n",
              "      <td>no</td>\n",
              "      <td>0</td>\n",
              "      <td>243.4</td>\n",
              "      <td>114</td>\n",
              "      <td>41.38</td>\n",
              "      <td>...</td>\n",
              "      <td>110</td>\n",
              "      <td>10.30</td>\n",
              "      <td>162.6</td>\n",
              "      <td>104</td>\n",
              "      <td>7.32</td>\n",
              "      <td>12.2</td>\n",
              "      <td>5</td>\n",
              "      <td>3.29</td>\n",
              "      <td>0</td>\n",
              "      <td>False</td>\n",
              "    </tr>\n",
              "    <tr>\n",
              "      <th>3</th>\n",
              "      <td>OH</td>\n",
              "      <td>84</td>\n",
              "      <td>408</td>\n",
              "      <td>375-9999</td>\n",
              "      <td>yes</td>\n",
              "      <td>no</td>\n",
              "      <td>0</td>\n",
              "      <td>299.4</td>\n",
              "      <td>71</td>\n",
              "      <td>50.90</td>\n",
              "      <td>...</td>\n",
              "      <td>88</td>\n",
              "      <td>5.26</td>\n",
              "      <td>196.9</td>\n",
              "      <td>89</td>\n",
              "      <td>8.86</td>\n",
              "      <td>6.6</td>\n",
              "      <td>7</td>\n",
              "      <td>1.78</td>\n",
              "      <td>2</td>\n",
              "      <td>False</td>\n",
              "    </tr>\n",
              "    <tr>\n",
              "      <th>4</th>\n",
              "      <td>OK</td>\n",
              "      <td>75</td>\n",
              "      <td>415</td>\n",
              "      <td>330-6626</td>\n",
              "      <td>yes</td>\n",
              "      <td>no</td>\n",
              "      <td>0</td>\n",
              "      <td>166.7</td>\n",
              "      <td>113</td>\n",
              "      <td>28.34</td>\n",
              "      <td>...</td>\n",
              "      <td>122</td>\n",
              "      <td>12.61</td>\n",
              "      <td>186.9</td>\n",
              "      <td>121</td>\n",
              "      <td>8.41</td>\n",
              "      <td>10.1</td>\n",
              "      <td>3</td>\n",
              "      <td>2.73</td>\n",
              "      <td>3</td>\n",
              "      <td>False</td>\n",
              "    </tr>\n",
              "  </tbody>\n",
              "</table>\n",
              "<p>5 rows × 21 columns</p>\n",
              "</div>\n",
              "      <button class=\"colab-df-convert\" onclick=\"convertToInteractive('df-4a8db1fc-e31a-4285-aa98-d69def62b7d9')\"\n",
              "              title=\"Convert this dataframe to an interactive table.\"\n",
              "              style=\"display:none;\">\n",
              "        \n",
              "  <svg xmlns=\"http://www.w3.org/2000/svg\" height=\"24px\"viewBox=\"0 0 24 24\"\n",
              "       width=\"24px\">\n",
              "    <path d=\"M0 0h24v24H0V0z\" fill=\"none\"/>\n",
              "    <path d=\"M18.56 5.44l.94 2.06.94-2.06 2.06-.94-2.06-.94-.94-2.06-.94 2.06-2.06.94zm-11 1L8.5 8.5l.94-2.06 2.06-.94-2.06-.94L8.5 2.5l-.94 2.06-2.06.94zm10 10l.94 2.06.94-2.06 2.06-.94-2.06-.94-.94-2.06-.94 2.06-2.06.94z\"/><path d=\"M17.41 7.96l-1.37-1.37c-.4-.4-.92-.59-1.43-.59-.52 0-1.04.2-1.43.59L10.3 9.45l-7.72 7.72c-.78.78-.78 2.05 0 2.83L4 21.41c.39.39.9.59 1.41.59.51 0 1.02-.2 1.41-.59l7.78-7.78 2.81-2.81c.8-.78.8-2.07 0-2.86zM5.41 20L4 18.59l7.72-7.72 1.47 1.35L5.41 20z\"/>\n",
              "  </svg>\n",
              "      </button>\n",
              "      \n",
              "  <style>\n",
              "    .colab-df-container {\n",
              "      display:flex;\n",
              "      flex-wrap:wrap;\n",
              "      gap: 12px;\n",
              "    }\n",
              "\n",
              "    .colab-df-convert {\n",
              "      background-color: #E8F0FE;\n",
              "      border: none;\n",
              "      border-radius: 50%;\n",
              "      cursor: pointer;\n",
              "      display: none;\n",
              "      fill: #1967D2;\n",
              "      height: 32px;\n",
              "      padding: 0 0 0 0;\n",
              "      width: 32px;\n",
              "    }\n",
              "\n",
              "    .colab-df-convert:hover {\n",
              "      background-color: #E2EBFA;\n",
              "      box-shadow: 0px 1px 2px rgba(60, 64, 67, 0.3), 0px 1px 3px 1px rgba(60, 64, 67, 0.15);\n",
              "      fill: #174EA6;\n",
              "    }\n",
              "\n",
              "    [theme=dark] .colab-df-convert {\n",
              "      background-color: #3B4455;\n",
              "      fill: #D2E3FC;\n",
              "    }\n",
              "\n",
              "    [theme=dark] .colab-df-convert:hover {\n",
              "      background-color: #434B5C;\n",
              "      box-shadow: 0px 1px 3px 1px rgba(0, 0, 0, 0.15);\n",
              "      filter: drop-shadow(0px 1px 2px rgba(0, 0, 0, 0.3));\n",
              "      fill: #FFFFFF;\n",
              "    }\n",
              "  </style>\n",
              "\n",
              "      <script>\n",
              "        const buttonEl =\n",
              "          document.querySelector('#df-4a8db1fc-e31a-4285-aa98-d69def62b7d9 button.colab-df-convert');\n",
              "        buttonEl.style.display =\n",
              "          google.colab.kernel.accessAllowed ? 'block' : 'none';\n",
              "\n",
              "        async function convertToInteractive(key) {\n",
              "          const element = document.querySelector('#df-4a8db1fc-e31a-4285-aa98-d69def62b7d9');\n",
              "          const dataTable =\n",
              "            await google.colab.kernel.invokeFunction('convertToInteractive',\n",
              "                                                     [key], {});\n",
              "          if (!dataTable) return;\n",
              "\n",
              "          const docLinkHtml = 'Like what you see? Visit the ' +\n",
              "            '<a target=\"_blank\" href=https://colab.research.google.com/notebooks/data_table.ipynb>data table notebook</a>'\n",
              "            + ' to learn more about interactive tables.';\n",
              "          element.innerHTML = '';\n",
              "          dataTable['output_type'] = 'display_data';\n",
              "          await google.colab.output.renderOutput(dataTable, element);\n",
              "          const docLink = document.createElement('div');\n",
              "          docLink.innerHTML = docLinkHtml;\n",
              "          element.appendChild(docLink);\n",
              "        }\n",
              "      </script>\n",
              "    </div>\n",
              "  </div>\n",
              "  "
            ]
          },
          "metadata": {},
          "execution_count": 34
        }
      ]
    },
    {
      "cell_type": "markdown",
      "source": [
        "Сделаем срезы необходимых для анализа данных"
      ],
      "metadata": {
        "id": "yLUewkAFNdVa"
      }
    },
    {
      "cell_type": "code",
      "source": [
        "churn_false = df[df['churn'] == False]['total day calls']\n",
        "churn_false.head(3)"
      ],
      "metadata": {
        "colab": {
          "base_uri": "https://localhost:8080/"
        },
        "id": "LvDJg5E0FlmL",
        "outputId": "a846afda-29da-4302-c87f-18de5d447870"
      },
      "execution_count": 13,
      "outputs": [
        {
          "output_type": "execute_result",
          "data": {
            "text/plain": [
              "0    110\n",
              "1    123\n",
              "2    114\n",
              "Name: total day calls, dtype: int64"
            ]
          },
          "metadata": {},
          "execution_count": 13
        }
      ]
    },
    {
      "cell_type": "code",
      "source": [
        "churn_true = df[df['churn'] == True]['total day calls']\n",
        "churn_true.head(3)"
      ],
      "metadata": {
        "colab": {
          "base_uri": "https://localhost:8080/"
        },
        "id": "Osm18oNzGMpj",
        "outputId": "9f8fb923-ac26-4d8b-c7ca-fdc611eeb35a"
      },
      "execution_count": 14,
      "outputs": [
        {
          "output_type": "execute_result",
          "data": {
            "text/plain": [
              "10    137\n",
              "15     67\n",
              "21     89\n",
              "Name: total day calls, dtype: int64"
            ]
          },
          "metadata": {},
          "execution_count": 14
        }
      ]
    },
    {
      "cell_type": "markdown",
      "source": [
        "Количество элементов в каждой выборке"
      ],
      "metadata": {
        "id": "zGgxxSo1NkkT"
      }
    },
    {
      "cell_type": "code",
      "source": [
        "n_false = len(churn_false)\n",
        "n_true = len(churn_true)\n",
        "print(n_false, n_true)"
      ],
      "metadata": {
        "colab": {
          "base_uri": "https://localhost:8080/"
        },
        "id": "mzxrccKiIZEp",
        "outputId": "a59aabf4-3de8-4ad9-87ea-1c0ba563770e"
      },
      "execution_count": 22,
      "outputs": [
        {
          "output_type": "stream",
          "name": "stdout",
          "text": [
            "2850 483\n"
          ]
        }
      ]
    },
    {
      "cell_type": "markdown",
      "source": [
        "Среднее значение"
      ],
      "metadata": {
        "id": "eV_2qmEXNvwY"
      }
    },
    {
      "cell_type": "code",
      "source": [
        "mean_false = churn_false.mean()\n",
        "mean_true = churn_true.mean()\n",
        "print(mean_false, mean_true)"
      ],
      "metadata": {
        "colab": {
          "base_uri": "https://localhost:8080/"
        },
        "id": "v-IILKbEG-Ev",
        "outputId": "60dc8bc3-76e9-4711-91d0-854b83384bb3"
      },
      "execution_count": 23,
      "outputs": [
        {
          "output_type": "stream",
          "name": "stdout",
          "text": [
            "100.28315789473685 101.33540372670808\n"
          ]
        }
      ]
    },
    {
      "cell_type": "markdown",
      "source": [
        "Стандартное отклонение"
      ],
      "metadata": {
        "id": "_jxVpFFtN3CB"
      }
    },
    {
      "cell_type": "code",
      "source": [
        "std_false = churn_false.std(ddof=1)\n",
        "std_true = churn_true.std(ddof=1)\n",
        "print(std_false, std_true)"
      ],
      "metadata": {
        "colab": {
          "base_uri": "https://localhost:8080/"
        },
        "id": "1zu8gjs1Hukm",
        "outputId": "78e7e46a-74dd-4a43-cd6b-cece600d6900"
      },
      "execution_count": 35,
      "outputs": [
        {
          "output_type": "stream",
          "name": "stdout",
          "text": [
            "19.801156951805293 21.58230721307551\n"
          ]
        }
      ]
    },
    {
      "cell_type": "markdown",
      "source": [
        "Найдем стандартную ошибку среднего по формуле:\n",
        "![Снимок.PNG](data:image/png;base64,iVBORw0KGgoAAAANSUhEUgAAAF4AAABJCAYAAAC0AZFNAAAAAXNSR0IArs4c6QAAAARnQU1BAACxjwv8YQUAAAAJcEhZcwAAEnQAABJ0Ad5mH3gAAARQSURBVHhe7ZmBTfMwEEa7AjOwAjswAjOwAhuwARswAROwAAuwQXforxf1Q+5xsZ2kkel/9ySLNnGi8nw5n53DKRlCih9Eih9Eih9Eih9Eih9Eih9Eit/A5+fn6XA4/LTX19fzmTYpfiPf398/4j8+Ps5H26T4KyDxDEIvKX4jx+Nxkn5/f38+0keK34jy/NPT0/lIHyl+I0yoiH97ezsf6SOseCbCx8fHn/ysdEHkermalPLy8jL1oe/d3d3p+fn59PDwMH0n8pcQUvz7+/skC3EIBcQhk+OWr6+v6RyNa4HrJN27pkVI8YpaC1KRWYJg9WcASpRm7DU9hBSvyLYiPUgv9OXpsEg8fZYSUrxkMgC1RY9KRZqX9xkMzin9LCGkeJB8GpOscn2J5oK5VKIc3/PkWMKKBybUskqx8jU4XirRVgHXrSG0eCirEytY5aa3+aX8Tp81hBcP5HlP4px4BksTtDcoPYQSz+rSi1CJtxGvVGPlco8tEyuEEs+qFFnl8p48T6ohgm3lon0Y5gGinPPcA9lKNXzW8SWr15ARrwmVhnCi1ysXgWuUVpCrCqZc6TJwSyM/c/wgUvwgUvwgUvwgUvwgUvwgUvwgfolf80qMxYT2O1TXrtmxi8SFeG2DLnklxqBwXqs2FhyS34sGbE27VS5+uVZ0FgbEiiT6EU6z0b1UivqvabfKxS9XZPekCaWjct8DGBCOc69kngvx2o1DWu2VmDaPPLnatVu7XXpt+C2jWo1fZyWfRlQr15dILn+BJ4R0pKfAbq+ORP/LiFbDPUtEK98T1VZ+WcGoD9KJ8rldvuSS2WFBtgTbCJZwVTJb0f3WtFul+svnXonpn07x65l+uV4QWOZeiSmXe+LJ9X8px/9VJvFLX4lpQLhO+Z8JlsmWuaGnHP3raDG5pdW4iHhNqDSEI3JuskR+Ocnymft4VdAtQlCpaND/uLTVqJ8NDNLt4vCapHgH0iwRu2dpnOIdKA5Iu3uS4h2Yr/auzFK8QZt8tb2qa5DiDZSRTKx7k+INlJG0vUnxBtIMUV9C+mFNw5PA+XLLm89a/1Dz965jUnyBVuRlGYlIxFJi8pnzND4jWnOBVv+9k3Io8ciz0VyCNCqaGsgl8ulX7lUR+ZxjMHoIIR7ZWvojbS4dENm1N2dlxNt+Eq+XQy3+e/Hah1K1ghwv6lVG1jb4lIq8wVOq6d1mCJVqFJXeqhRhrdWqrvfyuAa1d2c2lHiidC7qidhWmlC6sosrZHOce/cSSjwgF0nlJKjc3Vqt0odmN894Wuw9W4QTr1xOU1Wi3D036YKi2ktHGszaxGwJJx4kSitUvrdWq4pqr59SUFletggpvox6PhPFrWqkFtVl7ud+fG8NQkjxIFl6fWnztkX9PKEc06TNE9GaKyCseGQhitYqI/cgrHhQ1O/90sMjtHhVM0smxWsRWvxIUvwgUvwgUvwgUvwgUvwgUvwQTqd/l+NTlmPGWo0AAAAASUVORK5CYII=)"
      ],
      "metadata": {
        "id": "DA4Ao0MvOE0A"
      }
    },
    {
      "cell_type": "code",
      "source": [
        "se_false = std_false / (n_false ** 0.5)\n",
        "se_true = std_true / (n_true ** 0.5)\n",
        "print(se_false, se_true)"
      ],
      "metadata": {
        "colab": {
          "base_uri": "https://localhost:8080/"
        },
        "id": "59qBaSSHIP2o",
        "outputId": "de082499-159f-4a9c-be67-fbba6c2407c1"
      },
      "execution_count": 25,
      "outputs": [
        {
          "output_type": "stream",
          "name": "stdout",
          "text": [
            "0.37090965307926127 0.9820289815371145\n"
          ]
        }
      ]
    },
    {
      "cell_type": "markdown",
      "source": [
        "Расчитаем доверительный интервал в который попадает 95% элементов для каждой выборки"
      ],
      "metadata": {
        "id": "toLVc1gJPGaw"
      }
    },
    {
      "cell_type": "code",
      "source": [
        "[mean_false - 1.96 * se_false, mean_false + 1.96 * se_false]"
      ],
      "metadata": {
        "colab": {
          "base_uri": "https://localhost:8080/"
        },
        "id": "fw47LDJfJRs2",
        "outputId": "73f1fa6a-7953-478a-ac27-9eaa533b454d"
      },
      "execution_count": 27,
      "outputs": [
        {
          "output_type": "execute_result",
          "data": {
            "text/plain": [
              "[99.55617497470149, 101.0101408147722]"
            ]
          },
          "metadata": {},
          "execution_count": 27
        }
      ]
    },
    {
      "cell_type": "code",
      "source": [
        "[mean_true - 1.96 * se_true, mean_true + 1.96 * se_true]"
      ],
      "metadata": {
        "colab": {
          "base_uri": "https://localhost:8080/"
        },
        "id": "oYOTSseYJmt-",
        "outputId": "9b3609cc-673b-409f-e480-c8be3a658689"
      },
      "execution_count": 28,
      "outputs": [
        {
          "output_type": "execute_result",
          "data": {
            "text/plain": [
              "[99.41062692289533, 103.26018053052083]"
            ]
          },
          "metadata": {},
          "execution_count": 28
        }
      ]
    },
    {
      "cell_type": "markdown",
      "source": [
        "Расчитаем доверительный интервал с использованием функции python"
      ],
      "metadata": {
        "id": "nJH-SI-UPv3b"
      }
    },
    {
      "cell_type": "code",
      "source": [
        "from statsmodels.stats.weightstats import _zconfint_generic"
      ],
      "metadata": {
        "id": "MazeQrcbMHhw"
      },
      "execution_count": 29,
      "outputs": []
    },
    {
      "cell_type": "code",
      "source": [
        "_zconfint_generic(mean_false, se_false, 0.05, alternative='two-sided')"
      ],
      "metadata": {
        "colab": {
          "base_uri": "https://localhost:8080/"
        },
        "id": "7Y-Zc7c4MMwA",
        "outputId": "09513796-feac-41f8-943d-66382513a050"
      },
      "execution_count": 31,
      "outputs": [
        {
          "output_type": "execute_result",
          "data": {
            "text/plain": [
              "(99.55618833318324, 101.01012745629045)"
            ]
          },
          "metadata": {},
          "execution_count": 31
        }
      ]
    },
    {
      "cell_type": "code",
      "source": [
        "_zconfint_generic(mean_true, se_true, 0.05, alternative='two-sided')"
      ],
      "metadata": {
        "colab": {
          "base_uri": "https://localhost:8080/"
        },
        "id": "NQiJO-WBMkpd",
        "outputId": "98c9ec0f-848c-432c-fc67-d4d06be9286e"
      },
      "execution_count": 32,
      "outputs": [
        {
          "output_type": "execute_result",
          "data": {
            "text/plain": [
              "(99.41066229112079, 103.26014516229537)"
            ]
          },
          "metadata": {},
          "execution_count": 32
        }
      ]
    },
    {
      "cell_type": "markdown",
      "source": [
        "**Вывод:** В результате работы получены одинаковые довертельные интервалы рассчитанные явно с использованием формул и встроенной функции python. В дальнейшем для расчета доверительного интервала для экономии времени можно использовать готовую функцию _zconfint_generic"
      ],
      "metadata": {
        "id": "cKZVmgwhP590"
      }
    }
  ]
}