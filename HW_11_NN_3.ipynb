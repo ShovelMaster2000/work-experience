{
  "nbformat": 4,
  "nbformat_minor": 0,
  "metadata": {
    "colab": {
      "provenance": []
    },
    "kernelspec": {
      "name": "python3",
      "display_name": "Python 3"
    },
    "language_info": {
      "name": "python"
    },
    "accelerator": "GPU",
    "gpuClass": "standard"
  },
  "cells": [
    {
      "cell_type": "code",
      "execution_count": null,
      "metadata": {
        "id": "in0PyicHhZDG"
      },
      "outputs": [],
      "source": [
        "import datetime\n",
        "\n",
        "import torch\n",
        "import torch.nn as nn\n",
        "from torch.utils.data import Dataset\n",
        "from torch.nn.utils.rnn import pad_sequence\n",
        "from torch.utils.data import DataLoader"
      ]
    },
    {
      "cell_type": "code",
      "source": [
        "from google.colab import drive\n",
        "drive.mount('/content/drive')\n"
      ],
      "metadata": {
        "id": "73ieMA485Tme",
        "colab": {
          "base_uri": "https://localhost:8080/"
        },
        "outputId": "abec7c9e-3534-4892-be6e-69ee454806ad"
      },
      "execution_count": null,
      "outputs": [
        {
          "output_type": "stream",
          "name": "stdout",
          "text": [
            "Mounted at /content/drive\n"
          ]
        }
      ]
    },
    {
      "cell_type": "code",
      "source": [
        "data_dir = 'drive/My Drive/'\n",
        "train_lang = 'en'"
      ],
      "metadata": {
        "id": "Os4tVkvmkTIp"
      },
      "execution_count": null,
      "outputs": []
    },
    {
      "cell_type": "code",
      "source": [
        "import torch\n",
        "from torch.utils.data import Dataset\n",
        "from torch.nn.utils.rnn import pad_sequence\n",
        "\n",
        "class DatasetSeq(Dataset):\n",
        "    def __init__(self, data_dir, train_lang='en'):\n",
        "\t#open file\n",
        "        with open(data_dir + train_lang + '.train', 'r') as f:\n",
        "            train = f.read().split('\\n\\n')\n",
        "\n",
        "        # delete extra tag markup\n",
        "        train = [x for x in train if not '_ ' in x]\n",
        "\t    #init vocabs of tokens for encoding {<str> token: <int> id}\n",
        "        self.target_vocab = {} # {p: 1, a: 2, r: 3, pu: 4}\n",
        "        self.word_vocab = {} # {cat: 1, sat: 2, on: 3, mat: 4, '.': 5}\n",
        "        self.char_vocab = {} # {c: 1, a: 2, t: 3, ' ': 4, s: 5}\n",
        "\t    \n",
        "        # Cat sat on mat. -> [1, 2, 3, 4, 5]\n",
        "        # p    a  r  p pu -> [1, 2, 3, 1, 4]\n",
        "        # chars  -> [1, 2, 3, 4, 5, 2, 3, 4]\n",
        "\n",
        "\t    #init encoded sequences lists (processed data)\n",
        "        self.encoded_sequences = []\n",
        "        self.encoded_targets = []\n",
        "        self.encoded_char_sequences = []\n",
        "        # n=1 because first value is padding\n",
        "        n_word = 1\n",
        "        n_target = 1\n",
        "        n_char = 1\n",
        "        for line in train:\n",
        "            sequence = []\n",
        "            target = []\n",
        "            chars = []\n",
        "            for item in line.split('\\n'):\n",
        "                if item != '':\n",
        "                    word, label = item.split(' ')\n",
        "\n",
        "                    if self.word_vocab.get(word) is None:\n",
        "                        self.word_vocab[word] = n_word\n",
        "                        n_word += 1\n",
        "                    if self.target_vocab.get(label) is None:\n",
        "                        self.target_vocab[label] = n_target\n",
        "                        n_target += 1\n",
        "                    for char in word:\n",
        "                        if self.char_vocab.get(char) is None:\n",
        "                            self.char_vocab[char] = n_char\n",
        "                            n_char += 1\n",
        "                    sequence.append(self.word_vocab[word])\n",
        "                    target.append(self.target_vocab[label])\n",
        "                    chars.append([self.char_vocab[char] for char in word])\n",
        "            self.encoded_sequences.append(sequence)\n",
        "            self.encoded_targets.append(target)\n",
        "            self.encoded_char_sequences.append(chars)\n",
        "\n",
        "    def __len__(self):\n",
        "        return len(self.encoded_sequences)\n",
        "\n",
        "    def __getitem__(self, index):\n",
        "        return {\n",
        "            'data': self.encoded_sequences[index], # [1, 2, 3, 4, 6] len=5\n",
        "            'char': self.encoded_char_sequences[index],# [[1,2,3], [4,5], [1,2], [2,6,5,4], []] len=5\n",
        "            'target': self.encoded_targets[index], #  (1)\n",
        "        }"
      ],
      "metadata": {
        "id": "SI8UCZuy7hTK"
      },
      "execution_count": null,
      "outputs": []
    },
    {
      "cell_type": "code",
      "source": [
        "dataset = DatasetSeq(data_dir)"
      ],
      "metadata": {
        "id": "dhJuBtoz7f43"
      },
      "execution_count": null,
      "outputs": []
    },
    {
      "cell_type": "code",
      "source": [
        "def collate_fn(batch):\n",
        "    data = []\n",
        "    target = []\n",
        "    for item in batch:\n",
        "        data.append(torch.as_tensor(item['data']))\n",
        "        target.append(torch.as_tensor(item['target']))\n",
        "    data = pad_sequence(data, batch_first=True, padding_value=0)\n",
        "    target = pad_sequence(target, batch_first=True, padding_value=0)\n",
        "\n",
        "    return {'data': data, 'target': target}"
      ],
      "metadata": {
        "id": "uPJauY4hAqJ6"
      },
      "execution_count": null,
      "outputs": []
    },
    {
      "cell_type": "code",
      "source": [
        "# GRU\n",
        "class GRUPredictor(nn.Module):\n",
        "    def __init__(self, vocab_size, emb_dim, hidden_dim, n_classes):\n",
        "        super().__init__()\n",
        "        self.word_emb = nn.Embedding(vocab_size, emb_dim)\n",
        "        self.gru = nn.GRU(emb_dim, hidden_dim, batch_first=True)\n",
        "        self.classifier = nn.Linear(hidden_dim, n_classes)\n",
        "        self.hidden_dim = hidden_dim\n",
        "    \n",
        "    def forward(self, x):\n",
        "        emb = self.word_emb(x)\n",
        "        hidden, _ = self.gru(emb)\n",
        "        classes = self.classifier(hidden)\n",
        "\n",
        "        return classes"
      ],
      "metadata": {
        "id": "WBFZc1qY6HsC"
      },
      "execution_count": null,
      "outputs": []
    },
    {
      "cell_type": "code",
      "source": [
        "# RNN\n",
        "class RNNPredictor(nn.Module):\n",
        "    def __init__(self, vocab_size, emb_dim, hidden_dim, n_classes):\n",
        "        super().__init__()\n",
        "        self.word_emb = nn.Embedding(vocab_size, emb_dim)\n",
        "        self.gru = nn.RNN(emb_dim, hidden_dim, batch_first=True)\n",
        "        self.classifier = nn.Linear(hidden_dim, n_classes)\n",
        "        self.hidden_dim = hidden_dim\n",
        "    \n",
        "    def forward(self, x):\n",
        "        emb = self.word_emb(x)\n",
        "        hidden, _ = self.gru(emb)\n",
        "        classes = self.classifier(hidden)\n",
        "\n",
        "        return classes"
      ],
      "metadata": {
        "id": "d_SiGKwiRonb"
      },
      "execution_count": null,
      "outputs": []
    },
    {
      "cell_type": "code",
      "source": [
        "# LSTM\n",
        "class LSTMPredictor(nn.Module):\n",
        "    def __init__(self, vocab_size, emb_dim, hidden_dim, n_classes):\n",
        "        super().__init__()\n",
        "        self.word_emb = nn.Embedding(vocab_size, emb_dim)\n",
        "        self.gru = nn.LSTM(emb_dim, hidden_dim, batch_first=True)\n",
        "        self.classifier = nn.Linear(hidden_dim, n_classes)\n",
        "        self.hidden_dim = hidden_dim\n",
        "    \n",
        "    def forward(self, x):\n",
        "        emb = self.word_emb(x)\n",
        "        hidden, _ = self.gru(emb)\n",
        "        classes = self.classifier(hidden)\n",
        "\n",
        "        return classes"
      ],
      "metadata": {
        "id": "9IAx2oaQRpYf"
      },
      "execution_count": null,
      "outputs": []
    },
    {
      "cell_type": "code",
      "source": [
        "#hyper params\n",
        "vocab_size = len(dataset.word_vocab) + 1\n",
        "n_classes = len(dataset.target_vocab) + 1\n",
        "n_chars = len(dataset.char_vocab) + 1\n",
        "emb_dim = 256\n",
        "hidden = 256\n",
        "n_epochs = 10\n",
        "batch_size = 64\n",
        "cuda_device = 0\n",
        "device = f'cuda:{cuda_device}' if cuda_device != -1 else 'cpu'"
      ],
      "metadata": {
        "id": "K_PACmDaH8Z7"
      },
      "execution_count": null,
      "outputs": []
    },
    {
      "cell_type": "markdown",
      "source": [
        "# GRU"
      ],
      "metadata": {
        "id": "9DsXqB8iPdSk"
      }
    },
    {
      "cell_type": "code",
      "source": [
        "gru_model = GRUPredictor(vocab_size, emb_dim, hidden, n_classes).to(device)\n",
        "gru_model.train()\n",
        "optim = torch.optim.Adam(gru_model.parameters(), lr=0.001)\n",
        "loss_func = nn.CrossEntropyLoss()"
      ],
      "metadata": {
        "id": "a4gX5zVDIZdu"
      },
      "execution_count": null,
      "outputs": []
    },
    {
      "cell_type": "code",
      "source": [
        "start = datetime.datetime.now()\n",
        "for epoch in range(n_epochs):\n",
        "    dataloader = DataLoader(dataset, \n",
        "                            batch_size, \n",
        "                            shuffle=True, \n",
        "                            collate_fn=collate_fn,\n",
        "                            drop_last = True,\n",
        "                            )\n",
        "    for i, batch in enumerate(dataloader):\n",
        "        optim.zero_grad()\n",
        "\n",
        "        predict = gru_model(batch['data'].to(device))\n",
        "        loss = loss_func(predict.view(-1, n_classes),\n",
        "                         batch['target'].to(device).view(-1), \n",
        "                         )\n",
        "        loss.backward()\n",
        "        optim.step()\n",
        "        if i % 200 == 0:\n",
        "            print(f'epoch: {epoch}, step: {i}, loss: {loss.item()}')\n",
        "   \n",
        "    torch.save(gru_model.state_dict(), f'./rnn_chkpt_{epoch}.pth')\n",
        "end = datetime.datetime.now() - start\n",
        "print('GRU learning time is: ', end)"
      ],
      "metadata": {
        "colab": {
          "base_uri": "https://localhost:8080/"
        },
        "id": "r2f3MATJ8GKb",
        "outputId": "da2f021a-7b8a-4b6a-f3a7-958006590e3d"
      },
      "execution_count": null,
      "outputs": [
        {
          "output_type": "stream",
          "name": "stdout",
          "text": [
            "epoch: 0, step: 0, loss: 2.894826650619507\n",
            "epoch: 0, step: 200, loss: 0.20524267852306366\n",
            "epoch: 1, step: 0, loss: 0.17416904866695404\n",
            "epoch: 1, step: 200, loss: 0.12756206095218658\n",
            "epoch: 2, step: 0, loss: 0.116753488779068\n",
            "epoch: 2, step: 200, loss: 0.09209083020687103\n",
            "epoch: 3, step: 0, loss: 0.08104131370782852\n",
            "epoch: 3, step: 200, loss: 0.08020239323377609\n",
            "epoch: 4, step: 0, loss: 0.06311041861772537\n",
            "epoch: 4, step: 200, loss: 0.0722648873925209\n",
            "epoch: 5, step: 0, loss: 0.0323161780834198\n",
            "epoch: 5, step: 200, loss: 0.04849035292863846\n",
            "epoch: 6, step: 0, loss: 0.03726932033896446\n",
            "epoch: 6, step: 200, loss: 0.03833552822470665\n",
            "epoch: 7, step: 0, loss: 0.01742696575820446\n",
            "epoch: 7, step: 200, loss: 0.02975892834365368\n",
            "epoch: 8, step: 0, loss: 0.01121133379638195\n",
            "epoch: 8, step: 200, loss: 0.015591143630445004\n",
            "epoch: 9, step: 0, loss: 0.01610044203698635\n",
            "epoch: 9, step: 200, loss: 0.01326102577149868\n",
            "GRU learning time is:  0:00:30.611860\n"
          ]
        }
      ]
    },
    {
      "cell_type": "markdown",
      "source": [
        "#RNN"
      ],
      "metadata": {
        "id": "zrRB4YTbSMJA"
      }
    },
    {
      "cell_type": "code",
      "source": [
        "rnn_model = RNNPredictor(vocab_size, emb_dim, hidden, n_classes).to(device)\n",
        "rnn_model.train()\n",
        "optim = torch.optim.Adam(rnn_model.parameters(), lr=0.001)\n",
        "loss_func = nn.CrossEntropyLoss()"
      ],
      "metadata": {
        "id": "oHLgQAJ6SP48"
      },
      "execution_count": null,
      "outputs": []
    },
    {
      "cell_type": "code",
      "source": [
        "start = datetime.datetime.now()\n",
        "for epoch in range(n_epochs):\n",
        "    dataloader = DataLoader(dataset, \n",
        "                            batch_size, \n",
        "                            shuffle=True, \n",
        "                            collate_fn=collate_fn,\n",
        "                            drop_last = True,\n",
        "                            )\n",
        "    for i, batch in enumerate(dataloader):\n",
        "        optim.zero_grad()\n",
        "\n",
        "        predict = rnn_model(batch['data'].to(device))\n",
        "        loss = loss_func(predict.view(-1, n_classes),\n",
        "                         batch['target'].to(device).view(-1), \n",
        "                         )\n",
        "        loss.backward()\n",
        "        optim.step()\n",
        "        if i % 200 == 0:\n",
        "            print(f'epoch: {epoch}, step: {i}, loss: {loss.item()}')\n",
        "   \n",
        "    torch.save(rnn_model.state_dict(), f'./rnn_chkpt_{epoch}.pth')\n",
        "end = datetime.datetime.now() - start\n",
        "print('RNN learning time is: ', end)"
      ],
      "metadata": {
        "colab": {
          "base_uri": "https://localhost:8080/"
        },
        "id": "pOZYnq-fSP49",
        "outputId": "00b1230e-0e20-4bc0-cf50-0fb73d596b5e"
      },
      "execution_count": null,
      "outputs": [
        {
          "output_type": "stream",
          "name": "stdout",
          "text": [
            "epoch: 0, step: 0, loss: 3.0338234901428223\n",
            "epoch: 0, step: 200, loss: 0.21511203050613403\n",
            "epoch: 1, step: 0, loss: 0.2263086587190628\n",
            "epoch: 1, step: 200, loss: 0.13073144853115082\n",
            "epoch: 2, step: 0, loss: 0.11319169402122498\n",
            "epoch: 2, step: 200, loss: 0.0993996113538742\n",
            "epoch: 3, step: 0, loss: 0.08551615476608276\n",
            "epoch: 3, step: 200, loss: 0.09885741025209427\n",
            "epoch: 4, step: 0, loss: 0.07122472673654556\n",
            "epoch: 4, step: 200, loss: 0.04295482113957405\n",
            "epoch: 5, step: 0, loss: 0.06360017508268356\n",
            "epoch: 5, step: 200, loss: 0.07813771069049835\n",
            "epoch: 6, step: 0, loss: 0.05306210741400719\n",
            "epoch: 6, step: 200, loss: 0.06509897112846375\n",
            "epoch: 7, step: 0, loss: 0.025432011112570763\n",
            "epoch: 7, step: 200, loss: 0.05069582909345627\n",
            "epoch: 8, step: 0, loss: 0.027461526915431023\n",
            "epoch: 8, step: 200, loss: 0.03522291034460068\n",
            "epoch: 9, step: 0, loss: 0.015701087191700935\n",
            "epoch: 9, step: 200, loss: 0.0238655973225832\n",
            "RNN learning time is:  0:00:21.302009\n"
          ]
        }
      ]
    },
    {
      "cell_type": "markdown",
      "source": [
        "# LSTM"
      ],
      "metadata": {
        "id": "PWBIR0IYSSDy"
      }
    },
    {
      "cell_type": "code",
      "source": [
        "lstm_model = LSTMPredictor(vocab_size, emb_dim, hidden, n_classes).to(device)\n",
        "lstm_model.train()\n",
        "optim = torch.optim.Adam(lstm_model.parameters(), lr=0.001)\n",
        "loss_func = nn.CrossEntropyLoss()"
      ],
      "metadata": {
        "id": "ll0qkFhQSU87"
      },
      "execution_count": null,
      "outputs": []
    },
    {
      "cell_type": "code",
      "source": [
        "start = datetime.datetime.now()\n",
        "for epoch in range(n_epochs):\n",
        "    dataloader = DataLoader(dataset, \n",
        "                            batch_size, \n",
        "                            shuffle=True, \n",
        "                            collate_fn=collate_fn,\n",
        "                            drop_last = True,\n",
        "                            )\n",
        "    for i, batch in enumerate(dataloader):\n",
        "        optim.zero_grad()\n",
        "\n",
        "        predict = lstm_model(batch['data'].to(device))\n",
        "        loss = loss_func(predict.view(-1, n_classes),\n",
        "                         batch['target'].to(device).view(-1), \n",
        "                         )\n",
        "        loss.backward()\n",
        "        optim.step()\n",
        "        if i % 200 == 0:\n",
        "            print(f'epoch: {epoch}, step: {i}, loss: {loss.item()}')\n",
        "   \n",
        "    torch.save(lstm_model.state_dict(), f'./rnn_chkpt_{epoch}.pth')\n",
        "end = datetime.datetime.now() - start\n",
        "print('LSTM learning time is: ', end)"
      ],
      "metadata": {
        "colab": {
          "base_uri": "https://localhost:8080/"
        },
        "id": "F4EdgGssSU88",
        "outputId": "9239ea90-bf43-4ce4-91e9-1feee99a7191"
      },
      "execution_count": null,
      "outputs": [
        {
          "output_type": "stream",
          "name": "stdout",
          "text": [
            "epoch: 0, step: 0, loss: 3.056910514831543\n",
            "epoch: 0, step: 200, loss: 0.15730169415473938\n",
            "epoch: 1, step: 0, loss: 0.11425551027059555\n",
            "epoch: 1, step: 200, loss: 0.15840643644332886\n",
            "epoch: 2, step: 0, loss: 0.13073429465293884\n",
            "epoch: 2, step: 200, loss: 0.09575193375349045\n",
            "epoch: 3, step: 0, loss: 0.05823034793138504\n",
            "epoch: 3, step: 200, loss: 0.09169229120016098\n",
            "epoch: 4, step: 0, loss: 0.07322391122579575\n",
            "epoch: 4, step: 200, loss: 0.014530912041664124\n",
            "epoch: 5, step: 0, loss: 0.038003530353307724\n",
            "epoch: 5, step: 200, loss: 0.043122172355651855\n",
            "epoch: 6, step: 0, loss: 0.040944911539554596\n",
            "epoch: 6, step: 200, loss: 0.043931033462285995\n",
            "epoch: 7, step: 0, loss: 0.03390738368034363\n",
            "epoch: 7, step: 200, loss: 0.037540897727012634\n",
            "epoch: 8, step: 0, loss: 0.015789613127708435\n",
            "epoch: 8, step: 200, loss: 0.021603120490908623\n",
            "epoch: 9, step: 0, loss: 0.014474991708993912\n",
            "epoch: 9, step: 200, loss: 0.013995473273098469\n",
            "LSTM learning time is:  0:00:33.671119\n"
          ]
        }
      ]
    },
    {
      "cell_type": "markdown",
      "source": [
        "**Вывод**: GRU и LSTM при заданных гиперпараметрах показали примерно одинаковое качество и время обучения, качество RNN хуже хотя модель обучается быстрее "
      ],
      "metadata": {
        "id": "If4wm6zWUm2W"
      }
    },
    {
      "cell_type": "markdown",
      "source": [
        "#Example"
      ],
      "metadata": {
        "id": "2Wf3aKfXVyiF"
      }
    },
    {
      "cell_type": "markdown",
      "source": [
        "GRU"
      ],
      "metadata": {
        "id": "oBqpELZZFgXE"
      }
    },
    {
      "cell_type": "code",
      "source": [
        "phrase = 'He ran quickly after the red bus and caught it'\n",
        "words = phrase.split(' ')\n",
        "tokens = [dataset.word_vocab[w] for w in words]\n",
        "\n",
        "start = datetime.datetime.now()\n",
        "with torch.no_grad():\n",
        "    gru_model.eval()\n",
        "    predict = gru_model(torch.tensor(tokens).unsqueeze(0).to(device)) # 1 x T x N_classes\n",
        "    labels = torch.argmax(predict, dim=-1).squeeze().cpu().detach().tolist()\n",
        "    end = datetime.datetime.now() - start\n",
        "\n",
        "target_labels = list(dataset.target_vocab.keys())\n",
        "print([target_labels[l-1] for l in labels])\n",
        "print(end)"
      ],
      "metadata": {
        "colab": {
          "base_uri": "https://localhost:8080/"
        },
        "id": "bqWg24frFUuq",
        "outputId": "5caf54e6-9e54-45e5-bf0a-e69bd1ff13c6"
      },
      "execution_count": null,
      "outputs": [
        {
          "output_type": "stream",
          "name": "stdout",
          "text": [
            "['PRON', 'VERB', 'ADV', 'SCONJ', 'DET', 'ADJ', 'NOUN', 'CCONJ', 'VERB', 'PRON']\n",
            "0:00:00.003481\n"
          ]
        }
      ]
    },
    {
      "cell_type": "markdown",
      "source": [
        "RNN"
      ],
      "metadata": {
        "id": "EW0-N1Y2Fjs9"
      }
    },
    {
      "cell_type": "code",
      "source": [
        "phrase = 'He ran quickly after the red bus and caught it'\n",
        "words = phrase.split(' ')\n",
        "tokens = [dataset.word_vocab[w] for w in words]\n",
        "\n",
        "start = datetime.datetime.now()\n",
        "with torch.no_grad():\n",
        "    rnn_model.eval()\n",
        "    predict = rnn_model(torch.tensor(tokens).unsqueeze(0).to(device)) # 1 x T x N_classes\n",
        "    labels = torch.argmax(predict, dim=-1).squeeze().cpu().detach().tolist()\n",
        "    end = datetime.datetime.now() - start\n",
        "\n",
        "target_labels = list(dataset.target_vocab.keys())\n",
        "print([target_labels[l-1] for l in labels])\n",
        "print(end)"
      ],
      "metadata": {
        "colab": {
          "base_uri": "https://localhost:8080/"
        },
        "id": "1H31AOpBFbdg",
        "outputId": "5ab0bed2-89d1-4a40-f754-2a2e6263002d"
      },
      "execution_count": null,
      "outputs": [
        {
          "output_type": "stream",
          "name": "stdout",
          "text": [
            "['PRON', 'VERB', 'ADV', 'ADV', 'DET', 'ADJ', 'NOUN', 'CCONJ', 'VERB', 'PRON']\n",
            "0:00:00.003348\n"
          ]
        }
      ]
    },
    {
      "cell_type": "markdown",
      "source": [
        "LSTM"
      ],
      "metadata": {
        "id": "k_AAPYfIFlFj"
      }
    },
    {
      "cell_type": "code",
      "source": [
        "phrase = 'He ran quickly after the red bus and caught it'\n",
        "words = phrase.split(' ')\n",
        "tokens = [dataset.word_vocab[w] for w in words]\n",
        "\n",
        "start = datetime.datetime.now()\n",
        "with torch.no_grad():\n",
        "    lstm_model.eval()\n",
        "    predict = lstm_model(torch.tensor(tokens).unsqueeze(0).to(device)) # 1 x T x N_classes\n",
        "    labels = torch.argmax(predict, dim=-1).squeeze().cpu().detach().tolist()\n",
        "    end = datetime.datetime.now() - start\n",
        "\n",
        "target_labels = list(dataset.target_vocab.keys())\n",
        "print([target_labels[l-1] for l in labels])\n",
        "print(end)"
      ],
      "metadata": {
        "colab": {
          "base_uri": "https://localhost:8080/"
        },
        "id": "PW6qUacqFbki",
        "outputId": "7cc99f77-f0db-4138-9ab5-e4aae542718a"
      },
      "execution_count": null,
      "outputs": [
        {
          "output_type": "stream",
          "name": "stdout",
          "text": [
            "['PRON', 'VERB', 'ADV', 'ADV', 'DET', 'ADJ', 'NOUN', 'CCONJ', 'VERB', 'PRON']\n",
            "0:00:00.002817\n"
          ]
        }
      ]
    },
    {
      "cell_type": "markdown",
      "source": [
        "**Вывод:** за одинаковое количество эпох (10) RNN модель обучилась быстрее чем модели GRU, LSTM. На предсказании частей речи все три модели затрачивают одинаковое время, однако модель GRU делает ошибку на четвертом слове определяя наречие как союз. Можно сделать вывод, что на данном примере модель RNN показывает более быструю работы при хорошем качестве предсказания."
      ],
      "metadata": {
        "id": "EFYaHq56JIts"
      }
    }
  ]
}