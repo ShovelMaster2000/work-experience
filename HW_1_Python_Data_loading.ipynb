{
  "cells": [
    {
      "cell_type": "markdown",
      "source": [
        "## Задание\n",
        "* Загрузить каталог новостроек с сайта \"Наш дом.РФ\". \n",
        "* Сформировать DataFrame и экспортировать в формате excel, pikle, sql."
      ],
      "metadata": {
        "id": "JyAuHgxmU1iQ"
      },
      "id": "JyAuHgxmU1iQ"
    },
    {
      "cell_type": "markdown",
      "id": "a8c8ceda",
      "metadata": {
        "id": "a8c8ceda"
      },
      "source": [
        "# Список объектов\n"
      ]
    },
    {
      "cell_type": "code",
      "execution_count": null,
      "id": "7f23f29e",
      "metadata": {
        "id": "7f23f29e"
      },
      "outputs": [],
      "source": [
        "import requests"
      ]
    },
    {
      "cell_type": "code",
      "execution_count": null,
      "id": "cfebd775",
      "metadata": {
        "id": "cfebd775",
        "outputId": "123b83b8-bde9-4189-fd6f-3caf7cda65a4"
      },
      "outputs": [
        {
          "name": "stdout",
          "output_type": "stream",
          "text": [
            "10528\n"
          ]
        }
      ],
      "source": [
        "# соберем индентификаторы каждого объекта\n",
        "Home_IDs = []\n",
        "for number_offset in range(11):\n",
        "    offset_ = 1000 * number_offset\n",
        "    limit_ = 1000\n",
        "    url = f'https://xn--80az8a.xn--d1aqf.xn--p1ai/%D1%81%D0%B5%D1%80%D0%B2%D0%B8%D1%81%D1%8B/api/kn/object?offset={offset_}&limit={limit_}&sortField=devId.devShortCleanNm&sortType=asc&objStatus=0'\n",
        "    res = requests.get(url)\n",
        "    objects_data = res.json()\n",
        "    list_obj_data = objects_data.get('data').get('list')\n",
        "    for obj_num in range(len(list_obj_data)):\n",
        "        Home_IDs.append(list_obj_data[obj_num]['objId'])\n",
        "print(len(Home_IDs))"
      ]
    },
    {
      "cell_type": "markdown",
      "id": "34b1f704",
      "metadata": {
        "id": "34b1f704"
      },
      "source": [
        "# Данные по определенному объекту"
      ]
    },
    {
      "cell_type": "code",
      "execution_count": null,
      "id": "1f8beab9",
      "metadata": {
        "id": "1f8beab9",
        "outputId": "d5ba1897-0429-4c71-be13-e4224ee1fe94"
      },
      "outputs": [
        {
          "name": "stdout",
          "output_type": "stream",
          "text": [
            "10528\n"
          ]
        }
      ],
      "source": [
        "# соберем данные по каждому объекту\n",
        "base_url = f'https://xn--80az8a.xn--d1aqf.xn--p1ai/%D1%81%D0%B5%D1%80%D0%B2%D0%B8%D1%81%D1%8B/api/object/'\n",
        "list_data_homes = []\n",
        "for home_id in Home_IDs:\n",
        "    url = base_url + str(home_id)\n",
        "    res = requests.get(url)\n",
        "    list_data_homes.append(res.json().get('data'))\n",
        "print(len(list_data_homes))"
      ]
    },
    {
      "cell_type": "code",
      "execution_count": null,
      "id": "7516bdf1",
      "metadata": {
        "id": "7516bdf1"
      },
      "outputs": [],
      "source": [
        "import pandas as pd\n",
        "df = pd.json_normalize(data=list_data_homes)"
      ]
    },
    {
      "cell_type": "markdown",
      "id": "52df3cbb",
      "metadata": {
        "id": "52df3cbb"
      },
      "source": [
        "# Импорт данных"
      ]
    },
    {
      "cell_type": "code",
      "execution_count": null,
      "id": "6edb6c7c",
      "metadata": {
        "id": "6edb6c7c"
      },
      "outputs": [],
      "source": [
        "df.to_excel(\"output.xlsx\")"
      ]
    },
    {
      "cell_type": "code",
      "execution_count": null,
      "id": "a14701a8",
      "metadata": {
        "id": "a14701a8"
      },
      "outputs": [],
      "source": [
        "df.to_pickle(\"output.pkl\")"
      ]
    },
    {
      "cell_type": "code",
      "execution_count": null,
      "id": "079be9d4",
      "metadata": {
        "id": "079be9d4"
      },
      "outputs": [],
      "source": [
        "import sqlite3\n",
        "conn = sqlite3.connect('test_database')"
      ]
    },
    {
      "cell_type": "code",
      "execution_count": null,
      "id": "87260c23",
      "metadata": {
        "id": "87260c23"
      },
      "outputs": [],
      "source": [
        "df = df.applymap(str)"
      ]
    },
    {
      "cell_type": "code",
      "execution_count": null,
      "id": "b36e14ee",
      "metadata": {
        "id": "b36e14ee"
      },
      "outputs": [],
      "source": [
        "df.to_sql('output_table', conn)"
      ]
    }
  ],
  "metadata": {
    "kernelspec": {
      "display_name": "Python 3 (ipykernel)",
      "language": "python",
      "name": "python3"
    },
    "language_info": {
      "codemirror_mode": {
        "name": "ipython",
        "version": 3
      },
      "file_extension": ".py",
      "mimetype": "text/x-python",
      "name": "python",
      "nbconvert_exporter": "python",
      "pygments_lexer": "ipython3",
      "version": "3.9.7"
    },
    "colab": {
      "provenance": []
    }
  },
  "nbformat": 4,
  "nbformat_minor": 5
}